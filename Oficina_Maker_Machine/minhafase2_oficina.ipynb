{
 "cells": [
  {
   "cell_type": "code",
   "execution_count": 74,
   "metadata": {
    "colab": {
     "base_uri": "https://localhost:8080/"
    },
    "id": "hA4318HX9Bdp",
    "outputId": "755cd99d-6fba-4576-abf1-1daadac09e2f"
   },
   "outputs": [],
   "source": [
    "import pandas as pd\n",
    "import numpy as np\n",
    "import matplotlib.pyplot as plt\n",
    "import seaborn as sns\n",
    "from mpl_toolkits.mplot3d import Axes3D"
   ]
  },
  {
   "cell_type": "code",
   "execution_count": 4,
   "metadata": {
    "colab": {
     "base_uri": "https://localhost:8080/"
    },
    "id": "YUMuksaS9BZX",
    "outputId": "f2faf700-3527-4a85-ca14-215fe97343f3"
   },
   "outputs": [],
   "source": [
    "# abertura arquivo treino\n",
    "treino = pd.read_csv(\"D:/puc/oficina maker machine learning/drive_trabalho/treino.csv\")"
   ]
  },
  {
   "cell_type": "code",
   "execution_count": 5,
   "metadata": {},
   "outputs": [
    {
     "data": {
      "text/html": [
       "<div>\n",
       "<style scoped>\n",
       "    .dataframe tbody tr th:only-of-type {\n",
       "        vertical-align: middle;\n",
       "    }\n",
       "\n",
       "    .dataframe tbody tr th {\n",
       "        vertical-align: top;\n",
       "    }\n",
       "\n",
       "    .dataframe thead th {\n",
       "        text-align: right;\n",
       "    }\n",
       "</style>\n",
       "<table border=\"1\" class=\"dataframe\">\n",
       "  <thead>\n",
       "    <tr style=\"text-align: right;\">\n",
       "      <th></th>\n",
       "      <th>HS_CPF</th>\n",
       "      <th>ESTIMATIVARENDA</th>\n",
       "      <th>QTDDECLARACAOISENTA</th>\n",
       "      <th>QTDDECLARACAO10</th>\n",
       "      <th>QTDDECLARACAOREST10</th>\n",
       "      <th>QTDDECLARACAOPAGAR10</th>\n",
       "      <th>RESTITUICAOAGENCIAALTARENDA</th>\n",
       "      <th>BOLSAFAMILIA</th>\n",
       "      <th>ANOSULTIMARESTITUICAO</th>\n",
       "      <th>ANOSULTIMADECLARACAO</th>\n",
       "      <th>...</th>\n",
       "      <th>MEDIAIDADECASA</th>\n",
       "      <th>INDICMENORDEIDADE</th>\n",
       "      <th>COBRANCABAIXOCASA</th>\n",
       "      <th>COBRANCAMEDIOCASA</th>\n",
       "      <th>COBRANCAALTACASA</th>\n",
       "      <th>SEGMENTACAOFINBAIXACASA</th>\n",
       "      <th>SEGMENTACAOFINMEDIACASA</th>\n",
       "      <th>SEGMENTACAOALTACASA</th>\n",
       "      <th>BOLSAFAMILIACASA</th>\n",
       "      <th>FUNCIONARIOPUBLICOCASA</th>\n",
       "    </tr>\n",
       "  </thead>\n",
       "  <tbody>\n",
       "    <tr>\n",
       "      <td>0</td>\n",
       "      <td>93036</td>\n",
       "      <td>1800</td>\n",
       "      <td>0</td>\n",
       "      <td>1</td>\n",
       "      <td>0</td>\n",
       "      <td>0</td>\n",
       "      <td>0</td>\n",
       "      <td>0</td>\n",
       "      <td>-9998</td>\n",
       "      <td>8</td>\n",
       "      <td>...</td>\n",
       "      <td>36</td>\n",
       "      <td>0</td>\n",
       "      <td>0</td>\n",
       "      <td>0</td>\n",
       "      <td>0</td>\n",
       "      <td>0</td>\n",
       "      <td>0</td>\n",
       "      <td>0</td>\n",
       "      <td>0</td>\n",
       "      <td>0</td>\n",
       "    </tr>\n",
       "    <tr>\n",
       "      <td>1</td>\n",
       "      <td>301999</td>\n",
       "      <td>1500</td>\n",
       "      <td>6</td>\n",
       "      <td>1</td>\n",
       "      <td>0</td>\n",
       "      <td>0</td>\n",
       "      <td>0</td>\n",
       "      <td>0</td>\n",
       "      <td>-9998</td>\n",
       "      <td>10</td>\n",
       "      <td>...</td>\n",
       "      <td>-9999</td>\n",
       "      <td>-9999</td>\n",
       "      <td>-9999</td>\n",
       "      <td>-9999</td>\n",
       "      <td>-9999</td>\n",
       "      <td>-9999</td>\n",
       "      <td>-9999</td>\n",
       "      <td>-9999</td>\n",
       "      <td>-9999</td>\n",
       "      <td>-9999</td>\n",
       "    </tr>\n",
       "    <tr>\n",
       "      <td>2</td>\n",
       "      <td>97233</td>\n",
       "      <td>8000</td>\n",
       "      <td>0</td>\n",
       "      <td>4</td>\n",
       "      <td>1</td>\n",
       "      <td>3</td>\n",
       "      <td>0</td>\n",
       "      <td>0</td>\n",
       "      <td>1</td>\n",
       "      <td>1</td>\n",
       "      <td>...</td>\n",
       "      <td>-9999</td>\n",
       "      <td>-9999</td>\n",
       "      <td>-9999</td>\n",
       "      <td>-9999</td>\n",
       "      <td>-9999</td>\n",
       "      <td>-9999</td>\n",
       "      <td>-9999</td>\n",
       "      <td>-9999</td>\n",
       "      <td>-9999</td>\n",
       "      <td>-9999</td>\n",
       "    </tr>\n",
       "    <tr>\n",
       "      <td>3</td>\n",
       "      <td>189292</td>\n",
       "      <td>4500</td>\n",
       "      <td>3</td>\n",
       "      <td>4</td>\n",
       "      <td>4</td>\n",
       "      <td>0</td>\n",
       "      <td>0</td>\n",
       "      <td>0</td>\n",
       "      <td>1</td>\n",
       "      <td>1</td>\n",
       "      <td>...</td>\n",
       "      <td>-9999</td>\n",
       "      <td>-9999</td>\n",
       "      <td>-9999</td>\n",
       "      <td>-9999</td>\n",
       "      <td>-9999</td>\n",
       "      <td>-9999</td>\n",
       "      <td>-9999</td>\n",
       "      <td>-9999</td>\n",
       "      <td>-9999</td>\n",
       "      <td>-9999</td>\n",
       "    </tr>\n",
       "    <tr>\n",
       "      <td>4</td>\n",
       "      <td>382690</td>\n",
       "      <td>3000</td>\n",
       "      <td>2</td>\n",
       "      <td>2</td>\n",
       "      <td>1</td>\n",
       "      <td>0</td>\n",
       "      <td>0</td>\n",
       "      <td>0</td>\n",
       "      <td>5</td>\n",
       "      <td>5</td>\n",
       "      <td>...</td>\n",
       "      <td>-9999</td>\n",
       "      <td>-9999</td>\n",
       "      <td>-9999</td>\n",
       "      <td>-9999</td>\n",
       "      <td>-9999</td>\n",
       "      <td>-9999</td>\n",
       "      <td>-9999</td>\n",
       "      <td>-9999</td>\n",
       "      <td>-9999</td>\n",
       "      <td>-9999</td>\n",
       "    </tr>\n",
       "  </tbody>\n",
       "</table>\n",
       "<p>5 rows × 71 columns</p>\n",
       "</div>"
      ],
      "text/plain": [
       "   HS_CPF  ESTIMATIVARENDA  QTDDECLARACAOISENTA  QTDDECLARACAO10  \\\n",
       "0   93036             1800                    0                1   \n",
       "1  301999             1500                    6                1   \n",
       "2   97233             8000                    0                4   \n",
       "3  189292             4500                    3                4   \n",
       "4  382690             3000                    2                2   \n",
       "\n",
       "   QTDDECLARACAOREST10  QTDDECLARACAOPAGAR10  RESTITUICAOAGENCIAALTARENDA  \\\n",
       "0                    0                     0                            0   \n",
       "1                    0                     0                            0   \n",
       "2                    1                     3                            0   \n",
       "3                    4                     0                            0   \n",
       "4                    1                     0                            0   \n",
       "\n",
       "   BOLSAFAMILIA  ANOSULTIMARESTITUICAO  ANOSULTIMADECLARACAO  ...  \\\n",
       "0             0                  -9998                     8  ...   \n",
       "1             0                  -9998                    10  ...   \n",
       "2             0                      1                     1  ...   \n",
       "3             0                      1                     1  ...   \n",
       "4             0                      5                     5  ...   \n",
       "\n",
       "   MEDIAIDADECASA  INDICMENORDEIDADE  COBRANCABAIXOCASA  COBRANCAMEDIOCASA  \\\n",
       "0              36                  0                  0                  0   \n",
       "1           -9999              -9999              -9999              -9999   \n",
       "2           -9999              -9999              -9999              -9999   \n",
       "3           -9999              -9999              -9999              -9999   \n",
       "4           -9999              -9999              -9999              -9999   \n",
       "\n",
       "   COBRANCAALTACASA  SEGMENTACAOFINBAIXACASA  SEGMENTACAOFINMEDIACASA  \\\n",
       "0                 0                        0                        0   \n",
       "1             -9999                    -9999                    -9999   \n",
       "2             -9999                    -9999                    -9999   \n",
       "3             -9999                    -9999                    -9999   \n",
       "4             -9999                    -9999                    -9999   \n",
       "\n",
       "   SEGMENTACAOALTACASA  BOLSAFAMILIACASA  FUNCIONARIOPUBLICOCASA  \n",
       "0                    0                 0                       0  \n",
       "1                -9999             -9999                   -9999  \n",
       "2                -9999             -9999                   -9999  \n",
       "3                -9999             -9999                   -9999  \n",
       "4                -9999             -9999                   -9999  \n",
       "\n",
       "[5 rows x 71 columns]"
      ]
     },
     "execution_count": 5,
     "metadata": {},
     "output_type": "execute_result"
    }
   ],
   "source": [
    "treino.head()"
   ]
  },
  {
   "cell_type": "code",
   "execution_count": 10,
   "metadata": {},
   "outputs": [
    {
     "data": {
      "text/plain": [
       "Index(['HS_CPF', 'ESTIMATIVARENDA', 'QTDDECLARACAOISENTA', 'QTDDECLARACAO10',\n",
       "       'QTDDECLARACAOREST10', 'QTDDECLARACAOPAGAR10',\n",
       "       'RESTITUICAOAGENCIAALTARENDA', 'BOLSAFAMILIA', 'ANOSULTIMARESTITUICAO',\n",
       "       'ANOSULTIMADECLARACAO', 'ANOSULTIMADECLARACAOPAGAR', 'IDADEMEDIACEP',\n",
       "       'PERCENTMASCCEP', 'PERCENTFEMCEP', 'PERCENTANALFABETOCEP',\n",
       "       'PERCENTPRIMARIOCEP', 'PERCENTFUNDAMENTALCEP', 'PERCENTMEDIOCEP',\n",
       "       'PERCENTSUPERIORCEP', 'PERCENTMESTRADOCEP', 'PERCENTDOUTORADOCEP',\n",
       "       'PERCENTBOLSAFAMILIACEP', 'PERCENTFUNCIONARIOPUBLICOCEP',\n",
       "       'MEDIARENDACEP', 'PIBMUNICIPIO', 'QTDUTILITARIOMUNICIPIO',\n",
       "       'QTDAUTOMOVELMUNICIPIO', 'QTDCAMINHAOMUNICIPIO',\n",
       "       'QTDCAMINHONETEMUNICIPIO', 'QTDMOTOMUNICIPIO', 'PERCENTPOPZONAURBANA',\n",
       "       'IDHMUNICIPIO', 'INDICEEMPREGO', 'PORTEEMPREGADOR', 'SOCIOEMPRESA',\n",
       "       'FUNCIONARIOPUBLICO', 'SEGMENTACAO', 'SEGMENTACAOCOBRANCA',\n",
       "       'SEGMENTACAOECOM', 'SEGMENTACAOFIN', 'SEGMENTACAOTELECOM', 'SAFRA',\n",
       "       'TEMPOCPF', 'DISTCENTROCIDADE', 'ORIENTACAO_SEXUAL', 'RELIGIAO',\n",
       "       'DISTZONARISCO', 'QTDENDERECO', 'QTDEMAIL', 'QTDCELULAR',\n",
       "       'CELULARPROCON', 'QTDFONEFIXO', 'TELFIXOPROCON', 'TARGET',\n",
       "       'QTDPESSOASCASA', 'MENORRENDACASA', 'MAIORRENDACASA', 'SOMARENDACASA',\n",
       "       'MEDIARENDACASA', 'MAIORIDADECASA', 'MENORIDADECASA', 'MEDIAIDADECASA',\n",
       "       'INDICMENORDEIDADE', 'COBRANCABAIXOCASA', 'COBRANCAMEDIOCASA',\n",
       "       'COBRANCAALTACASA', 'SEGMENTACAOFINBAIXACASA',\n",
       "       'SEGMENTACAOFINMEDIACASA', 'SEGMENTACAOALTACASA', 'BOLSAFAMILIACASA',\n",
       "       'FUNCIONARIOPUBLICOCASA'],\n",
       "      dtype='object')"
      ]
     },
     "execution_count": 10,
     "metadata": {},
     "output_type": "execute_result"
    }
   ],
   "source": [
    "treino.columns"
   ]
  },
  {
   "cell_type": "code",
   "execution_count": 11,
   "metadata": {
    "id": "sphNslKtAfB5"
   },
   "outputs": [],
   "source": [
    "# Exclusão de colunas: Lei 12414 e requisitos\n",
    "\n",
    "colunas_excluir = [\"ORIENTACAO_SEXUAL\",\"RELIGIAO\",\"SAFRA\",\"BOLSAFAMILIA\",\"BOLSAFAMILIACASA\",\"DISTCENTROCIDADE\",\"DISTZONARISCO\",\"IDADEMEDIACEP\",\"IDHMUNICIPIO\",\"MEDIARENDACEP\",\"PERCENTMASCCEP\",\n",
    "\"PERCENTFEMCEP\",\"PERCENTANALFABETOCEP\",\"PERCENTPRIMARIOCEP\",\"PERCENTPOPZONAURBANA\",\"PERCENTFUNDAMENTALCEP\",\"PERCENTMEDIOCEP\",\"PERCENTSUPERIORCEP\",\"PERCENTMESTRADOCEP\",\"PERCENTDOUTORADOCEP\",\n",
    "\"PERCENTBOLSAFAMILIACEP\",\"PERCENTFUNCIONARIOPUBLICOCEP\",\"PIBMUNICIPIO\",\"QTDENDERECO\",\"QTDUTILITARIOMUNICIPIO\",\"QTDAUTOMOVELMUNICIPIO\",\"QTDCAMINHAOMUNICIPIO\",\n",
    "\"QTDCAMINHONETEMUNICIPIO\",\"QTDMOTOMUNICIPIO\"]"
   ]
  },
  {
   "cell_type": "code",
   "execution_count": null,
   "metadata": {},
   "outputs": [],
   "source": [
    "treino = treino.drop(columns = colunas_excluir)"
   ]
  },
  {
   "cell_type": "code",
   "execution_count": 12,
   "metadata": {
    "colab": {
     "base_uri": "https://localhost:8080/"
    },
    "id": "aSbBCYShT4kB",
    "outputId": "e1fc4a01-93c0-4049-ba0c-7d8724d98e14"
   },
   "outputs": [
    {
     "data": {
      "text/plain": [
       "(228139, 42)"
      ]
     },
     "execution_count": 12,
     "metadata": {},
     "output_type": "execute_result"
    }
   ],
   "source": [
    "treino.shape"
   ]
  },
  {
   "cell_type": "code",
   "execution_count": 13,
   "metadata": {
    "id": "TvFnhDQ-UGX8"
   },
   "outputs": [],
   "source": [
    "## correlação entre atributos\n",
    "correl = treino.corr()"
   ]
  },
  {
   "cell_type": "code",
   "execution_count": 16,
   "metadata": {
    "id": "WAS17gr7UGjZ"
   },
   "outputs": [],
   "source": [
    "## identificando as variáveis com correlação >= 70%\n",
    "var_maior = correl.where(np.triu(np.ones(correl.shape),k=1).astype(np.bool))"
   ]
  },
  {
   "cell_type": "code",
   "execution_count": 18,
   "metadata": {
    "colab": {
     "base_uri": "https://localhost:8080/"
    },
    "id": "zszD3vGhW_4x",
    "outputId": "934bd1a5-a4dd-404c-8aba-eb762556b098"
   },
   "outputs": [
    {
     "data": {
      "text/plain": [
       "['QTDDECLARACAO10',\n",
       " 'QTDDECLARACAOREST10',\n",
       " 'QTDDECLARACAOPAGAR10',\n",
       " 'RESTITUICAOAGENCIAALTARENDA',\n",
       " 'INDICEEMPREGO',\n",
       " 'PORTEEMPREGADOR',\n",
       " 'SOCIOEMPRESA',\n",
       " 'FUNCIONARIOPUBLICO',\n",
       " 'SEGMENTACAO',\n",
       " 'SEGMENTACAOCOBRANCA',\n",
       " 'SEGMENTACAOECOM',\n",
       " 'SEGMENTACAOFIN',\n",
       " 'SEGMENTACAOTELECOM',\n",
       " 'QTDEMAIL',\n",
       " 'QTDCELULAR',\n",
       " 'CELULARPROCON',\n",
       " 'QTDFONEFIXO',\n",
       " 'TELFIXOPROCON',\n",
       " 'MENORRENDACASA',\n",
       " 'MAIORRENDACASA',\n",
       " 'SOMARENDACASA',\n",
       " 'MEDIARENDACASA',\n",
       " 'MAIORIDADECASA',\n",
       " 'MENORIDADECASA',\n",
       " 'MEDIAIDADECASA',\n",
       " 'INDICMENORDEIDADE',\n",
       " 'COBRANCABAIXOCASA',\n",
       " 'COBRANCAMEDIOCASA',\n",
       " 'COBRANCAALTACASA',\n",
       " 'SEGMENTACAOFINBAIXACASA',\n",
       " 'SEGMENTACAOFINMEDIACASA',\n",
       " 'SEGMENTACAOALTACASA',\n",
       " 'FUNCIONARIOPUBLICOCASA']"
      ]
     },
     "execution_count": 18,
     "metadata": {},
     "output_type": "execute_result"
    }
   ],
   "source": [
    "result = [column for column in var_maior.columns if any(var_maior[column] >= 0.7)]\n",
    "result"
   ]
  },
  {
   "cell_type": "code",
   "execution_count": 20,
   "metadata": {
    "colab": {
     "base_uri": "https://localhost:8080/"
    },
    "id": "jqcPIeGxCCJ1",
    "outputId": "deec28bd-8df9-4d17-aeea-25e4502b4615"
   },
   "outputs": [
    {
     "data": {
      "text/plain": [
       "(228139, 9)"
      ]
     },
     "execution_count": 20,
     "metadata": {},
     "output_type": "execute_result"
    }
   ],
   "source": [
    "## excluindo colunas com correlação alta e salvando os dados em um novo DF\n",
    "df = treino.drop(columns=result)\n",
    "df.shape"
   ]
  },
  {
   "cell_type": "code",
   "execution_count": 21,
   "metadata": {},
   "outputs": [
    {
     "data": {
      "text/plain": [
       "Index(['HS_CPF', 'ESTIMATIVARENDA', 'QTDDECLARACAOISENTA',\n",
       "       'ANOSULTIMARESTITUICAO', 'ANOSULTIMADECLARACAO',\n",
       "       'ANOSULTIMADECLARACAOPAGAR', 'TEMPOCPF', 'TARGET', 'QTDPESSOASCASA'],\n",
       "      dtype='object')"
      ]
     },
     "execution_count": 21,
     "metadata": {},
     "output_type": "execute_result"
    }
   ],
   "source": [
    "df.columns"
   ]
  },
  {
   "cell_type": "markdown",
   "metadata": {},
   "source": [
    "## Estatísticas"
   ]
  },
  {
   "cell_type": "code",
   "execution_count": 30,
   "metadata": {},
   "outputs": [
    {
     "data": {
      "text/html": [
       "<div>\n",
       "<style scoped>\n",
       "    .dataframe tbody tr th:only-of-type {\n",
       "        vertical-align: middle;\n",
       "    }\n",
       "\n",
       "    .dataframe tbody tr th {\n",
       "        vertical-align: top;\n",
       "    }\n",
       "\n",
       "    .dataframe thead th {\n",
       "        text-align: right;\n",
       "    }\n",
       "</style>\n",
       "<table border=\"1\" class=\"dataframe\">\n",
       "  <thead>\n",
       "    <tr style=\"text-align: right;\">\n",
       "      <th></th>\n",
       "      <th>HS_CPF</th>\n",
       "      <th>ESTIMATIVARENDA</th>\n",
       "      <th>QTDDECLARACAOISENTA</th>\n",
       "      <th>ANOSULTIMARESTITUICAO</th>\n",
       "      <th>ANOSULTIMADECLARACAO</th>\n",
       "      <th>ANOSULTIMADECLARACAOPAGAR</th>\n",
       "      <th>TEMPOCPF</th>\n",
       "      <th>TARGET</th>\n",
       "      <th>QTDPESSOASCASA</th>\n",
       "    </tr>\n",
       "  </thead>\n",
       "  <tbody>\n",
       "    <tr>\n",
       "      <td>count</td>\n",
       "      <td>228139.00</td>\n",
       "      <td>228139.00</td>\n",
       "      <td>228139.00</td>\n",
       "      <td>228139.00</td>\n",
       "      <td>228139.00</td>\n",
       "      <td>228139.00</td>\n",
       "      <td>228139.00</td>\n",
       "      <td>228139.00</td>\n",
       "      <td>228139.00</td>\n",
       "    </tr>\n",
       "    <tr>\n",
       "      <td>mean</td>\n",
       "      <td>191491.35</td>\n",
       "      <td>2977.43</td>\n",
       "      <td>-159.44</td>\n",
       "      <td>-8285.75</td>\n",
       "      <td>-6431.87</td>\n",
       "      <td>-9019.52</td>\n",
       "      <td>-332.20</td>\n",
       "      <td>0.15</td>\n",
       "      <td>-6179.78</td>\n",
       "    </tr>\n",
       "    <tr>\n",
       "      <td>std</td>\n",
       "      <td>111542.83</td>\n",
       "      <td>4846.53</td>\n",
       "      <td>1256.76</td>\n",
       "      <td>3767.28</td>\n",
       "      <td>4790.84</td>\n",
       "      <td>2971.59</td>\n",
       "      <td>1833.61</td>\n",
       "      <td>0.36</td>\n",
       "      <td>4859.36</td>\n",
       "    </tr>\n",
       "    <tr>\n",
       "      <td>min</td>\n",
       "      <td>1.00</td>\n",
       "      <td>-9999.00</td>\n",
       "      <td>-9999.00</td>\n",
       "      <td>-9999.00</td>\n",
       "      <td>-9999.00</td>\n",
       "      <td>-9999.00</td>\n",
       "      <td>-9999.00</td>\n",
       "      <td>0.00</td>\n",
       "      <td>-9999.00</td>\n",
       "    </tr>\n",
       "    <tr>\n",
       "      <td>25%</td>\n",
       "      <td>95447.50</td>\n",
       "      <td>900.00</td>\n",
       "      <td>0.00</td>\n",
       "      <td>-9998.00</td>\n",
       "      <td>-9998.00</td>\n",
       "      <td>-9998.00</td>\n",
       "      <td>8.00</td>\n",
       "      <td>0.00</td>\n",
       "      <td>-9999.00</td>\n",
       "    </tr>\n",
       "    <tr>\n",
       "      <td>50%</td>\n",
       "      <td>190473.00</td>\n",
       "      <td>1100.00</td>\n",
       "      <td>0.00</td>\n",
       "      <td>-9998.00</td>\n",
       "      <td>-9998.00</td>\n",
       "      <td>-9998.00</td>\n",
       "      <td>15.00</td>\n",
       "      <td>0.00</td>\n",
       "      <td>-9999.00</td>\n",
       "    </tr>\n",
       "    <tr>\n",
       "      <td>75%</td>\n",
       "      <td>286373.50</td>\n",
       "      <td>4000.00</td>\n",
       "      <td>1.00</td>\n",
       "      <td>-9998.00</td>\n",
       "      <td>1.00</td>\n",
       "      <td>-9998.00</td>\n",
       "      <td>24.00</td>\n",
       "      <td>0.00</td>\n",
       "      <td>2.00</td>\n",
       "    </tr>\n",
       "    <tr>\n",
       "      <td>max</td>\n",
       "      <td>391458.00</td>\n",
       "      <td>30000.00</td>\n",
       "      <td>9.00</td>\n",
       "      <td>18.00</td>\n",
       "      <td>21.00</td>\n",
       "      <td>18.00</td>\n",
       "      <td>27.00</td>\n",
       "      <td>1.00</td>\n",
       "      <td>10.00</td>\n",
       "    </tr>\n",
       "  </tbody>\n",
       "</table>\n",
       "</div>"
      ],
      "text/plain": [
       "          HS_CPF  ESTIMATIVARENDA  QTDDECLARACAOISENTA  ANOSULTIMARESTITUICAO  \\\n",
       "count  228139.00        228139.00            228139.00              228139.00   \n",
       "mean   191491.35          2977.43              -159.44               -8285.75   \n",
       "std    111542.83          4846.53              1256.76                3767.28   \n",
       "min         1.00         -9999.00             -9999.00               -9999.00   \n",
       "25%     95447.50           900.00                 0.00               -9998.00   \n",
       "50%    190473.00          1100.00                 0.00               -9998.00   \n",
       "75%    286373.50          4000.00                 1.00               -9998.00   \n",
       "max    391458.00         30000.00                 9.00                  18.00   \n",
       "\n",
       "       ANOSULTIMADECLARACAO  ANOSULTIMADECLARACAOPAGAR   TEMPOCPF     TARGET  \\\n",
       "count             228139.00                  228139.00  228139.00  228139.00   \n",
       "mean               -6431.87                   -9019.52    -332.20       0.15   \n",
       "std                 4790.84                    2971.59    1833.61       0.36   \n",
       "min                -9999.00                   -9999.00   -9999.00       0.00   \n",
       "25%                -9998.00                   -9998.00       8.00       0.00   \n",
       "50%                -9998.00                   -9998.00      15.00       0.00   \n",
       "75%                    1.00                   -9998.00      24.00       0.00   \n",
       "max                   21.00                      18.00      27.00       1.00   \n",
       "\n",
       "       QTDPESSOASCASA  \n",
       "count       228139.00  \n",
       "mean         -6179.78  \n",
       "std           4859.36  \n",
       "min          -9999.00  \n",
       "25%          -9999.00  \n",
       "50%          -9999.00  \n",
       "75%              2.00  \n",
       "max             10.00  "
      ]
     },
     "execution_count": 30,
     "metadata": {},
     "output_type": "execute_result"
    }
   ],
   "source": [
    "df.describe().round(2)"
   ]
  },
  {
   "cell_type": "code",
   "execution_count": 24,
   "metadata": {},
   "outputs": [
    {
     "data": {
      "text/plain": [
       "<matplotlib.axes._subplots.AxesSubplot at 0xa6bef0>"
      ]
     },
     "execution_count": 24,
     "metadata": {},
     "output_type": "execute_result"
    },
    {
     "data": {
      "image/png": "[encoded data removed]",
      "text/plain": [
       "<Figure size 432x288 with 1 Axes>"
      ]
     },
     "metadata": {
      "needs_background": "light"
     },
     "output_type": "display_data"
    }
   ],
   "source": [
    "df.boxplot('ESTIMATIVARENDA')"
   ]
  },
  {
   "cell_type": "code",
   "execution_count": 31,
   "metadata": {},
   "outputs": [
    {
     "data": {
      "text/plain": [
       "(3662, 9)"
      ]
     },
     "execution_count": 31,
     "metadata": {},
     "output_type": "execute_result"
    }
   ],
   "source": [
    "df[df['ESTIMATIVARENDA']<0].shape"
   ]
  },
  {
   "cell_type": "code",
   "execution_count": 32,
   "metadata": {},
   "outputs": [
    {
     "data": {
      "text/plain": [
       "<matplotlib.axes._subplots.AxesSubplot at 0xb254130>"
      ]
     },
     "execution_count": 32,
     "metadata": {},
     "output_type": "execute_result"
    },
    {
     "data": {
      "image/png": "[encoded data removed]",
      "text/plain": [
       "<Figure size 432x288 with 1 Axes>"
      ]
     },
     "metadata": {
      "needs_background": "light"
     },
     "output_type": "display_data"
    }
   ],
   "source": [
    "df.boxplot('QTDDECLARACAOISENTA')"
   ]
  },
  {
   "cell_type": "code",
   "execution_count": 33,
   "metadata": {},
   "outputs": [
    {
     "data": {
      "text/plain": [
       "(3662, 9)"
      ]
     },
     "execution_count": 33,
     "metadata": {},
     "output_type": "execute_result"
    }
   ],
   "source": [
    "df[df['QTDDECLARACAOISENTA']<0].shape"
   ]
  },
  {
   "cell_type": "code",
   "execution_count": 34,
   "metadata": {},
   "outputs": [
    {
     "data": {
      "text/plain": [
       "<matplotlib.axes._subplots.AxesSubplot at 0xb5f5930>"
      ]
     },
     "execution_count": 34,
     "metadata": {},
     "output_type": "execute_result"
    },
    {
     "data": {
      "image/png": "[encoded data removed]",
      "text/plain": [
       "<Figure size 432x288 with 1 Axes>"
      ]
     },
     "metadata": {
      "needs_background": "light"
     },
     "output_type": "display_data"
    }
   ],
   "source": [
    "df.boxplot('ANOSULTIMARESTITUICAO')"
   ]
  },
  {
   "cell_type": "code",
   "execution_count": 37,
   "metadata": {},
   "outputs": [
    {
     "data": {
      "text/plain": [
       "189079"
      ]
     },
     "execution_count": 37,
     "metadata": {},
     "output_type": "execute_result"
    }
   ],
   "source": [
    "# Deu muitos registros !!!!\n",
    "df[df['ANOSULTIMARESTITUICAO']<0].shape[0]"
   ]
  },
  {
   "cell_type": "code",
   "execution_count": 45,
   "metadata": {},
   "outputs": [
    {
     "data": {
      "text/plain": [
       "<matplotlib.axes._subplots.AxesSubplot at 0x18eb8fb0>"
      ]
     },
     "execution_count": 45,
     "metadata": {},
     "output_type": "execute_result"
    },
    {
     "data": {
      "image/png": "[encoded data removed]",
      "text/plain": [
       "<Figure size 1440x1152 with 1 Axes>"
      ]
     },
     "metadata": {
      "needs_background": "light"
     },
     "output_type": "display_data"
    }
   ],
   "source": [
    "df.boxplot('ANOSULTIMADECLARACAOPAGAR')"
   ]
  },
  {
   "cell_type": "code",
   "execution_count": 47,
   "metadata": {},
   "outputs": [
    {
     "data": {
      "text/plain": [
       "205822"
      ]
     },
     "execution_count": 47,
     "metadata": {},
     "output_type": "execute_result"
    }
   ],
   "source": [
    "df[df['ANOSULTIMADECLARACAOPAGAR']<0].shape[0]"
   ]
  },
  {
   "cell_type": "code",
   "execution_count": 48,
   "metadata": {},
   "outputs": [
    {
     "data": {
      "text/plain": [
       "<matplotlib.axes._subplots.AxesSubplot at 0x18eedcf0>"
      ]
     },
     "execution_count": 48,
     "metadata": {},
     "output_type": "execute_result"
    },
    {
     "data": {
      "image/png": "[encoded data removed]",
      "text/plain": [
       "<Figure size 1440x1152 with 1 Axes>"
      ]
     },
     "metadata": {
      "needs_background": "light"
     },
     "output_type": "display_data"
    }
   ],
   "source": [
    "df.boxplot('TEMPOCPF')"
   ]
  },
  {
   "cell_type": "code",
   "execution_count": 49,
   "metadata": {},
   "outputs": [
    {
     "data": {
      "text/plain": [
       "7923"
      ]
     },
     "execution_count": 49,
     "metadata": {},
     "output_type": "execute_result"
    }
   ],
   "source": [
    "df[df['TEMPOCPF']<0].shape[0]"
   ]
  },
  {
   "cell_type": "code",
   "execution_count": 50,
   "metadata": {},
   "outputs": [
    {
     "data": {
      "text/plain": [
       "<matplotlib.axes._subplots.AxesSubplot at 0x18f2f910>"
      ]
     },
     "execution_count": 50,
     "metadata": {},
     "output_type": "execute_result"
    },
    {
     "data": {
      "image/png": "[encoded data removed]",
      "text/plain": [
       "<Figure size 1440x1152 with 1 Axes>"
      ]
     },
     "metadata": {
      "needs_background": "light"
     },
     "output_type": "display_data"
    }
   ],
   "source": [
    "df.boxplot('TARGET')"
   ]
  },
  {
   "cell_type": "code",
   "execution_count": 51,
   "metadata": {},
   "outputs": [
    {
     "data": {
      "text/plain": [
       "0"
      ]
     },
     "execution_count": 51,
     "metadata": {},
     "output_type": "execute_result"
    }
   ],
   "source": [
    "df[df['TARGET']<0].shape[0]"
   ]
  },
  {
   "cell_type": "code",
   "execution_count": 52,
   "metadata": {},
   "outputs": [
    {
     "data": {
      "text/plain": [
       "<matplotlib.axes._subplots.AxesSubplot at 0x18f6d3b0>"
      ]
     },
     "execution_count": 52,
     "metadata": {},
     "output_type": "execute_result"
    },
    {
     "data": {
      "image/png": "[encoded data removed]",
      "text/plain": [
       "<Figure size 1440x1152 with 1 Axes>"
      ]
     },
     "metadata": {
      "needs_background": "light"
     },
     "output_type": "display_data"
    }
   ],
   "source": [
    "df.boxplot('QTDPESSOASCASA')"
   ]
  },
  {
   "cell_type": "code",
   "execution_count": 53,
   "metadata": {},
   "outputs": [
    {
     "data": {
      "text/plain": [
       "141025"
      ]
     },
     "execution_count": 53,
     "metadata": {},
     "output_type": "execute_result"
    }
   ],
   "source": [
    "df[df['QTDPESSOASCASA']<0].shape[0]"
   ]
  },
  {
   "cell_type": "code",
   "execution_count": 54,
   "metadata": {},
   "outputs": [
    {
     "data": {
      "text/plain": [
       "<matplotlib.axes._subplots.AxesSubplot at 0x190db790>"
      ]
     },
     "execution_count": 54,
     "metadata": {},
     "output_type": "execute_result"
    },
    {
     "data": {
      "image/png": "[encoded data removed]",
      "text/plain": [
       "<Figure size 1440x1152 with 1 Axes>"
      ]
     },
     "metadata": {
      "needs_background": "light"
     },
     "output_type": "display_data"
    }
   ],
   "source": [
    "%matplotlib inline\n",
    "plt.rc('figure', figsize=(20, 16))\n",
    "df.std().plot.bar()"
   ]
  },
  {
   "cell_type": "markdown",
   "metadata": {},
   "source": [
    "# Excluíndo registro inconsistentes do atributo estimativa de renda"
   ]
  },
  {
   "cell_type": "code",
   "execution_count": 56,
   "metadata": {},
   "outputs": [],
   "source": [
    "df2 = df.query(\"ESTIMATIVARENDA >= 0\").reset_index(drop=True)\n",
    "df2.replace(-9998,np.NaN, inplace=True)\n",
    "df2.replace(-9999,np.NaN, inplace=True)\n",
    "\n"
   ]
  },
  {
   "cell_type": "code",
   "execution_count": 58,
   "metadata": {},
   "outputs": [
    {
     "data": {
      "text/plain": [
       "0"
      ]
     },
     "execution_count": 58,
     "metadata": {},
     "output_type": "execute_result"
    }
   ],
   "source": [
    "# Conferindo exclusão\n",
    "df2[df2['ESTIMATIVARENDA']<0].shape[0]"
   ]
  },
  {
   "cell_type": "code",
   "execution_count": 59,
   "metadata": {},
   "outputs": [],
   "source": [
    "## Fillna para preencher \n",
    "df2.loc[df2.TARGET == 0,:] = df2.loc[df2.TARGET == 0,:].apply(lambda x: x.fillna(x.median()))\n",
    "df2.loc[df2.TARGET == 1,:] = df2.loc[df2.TARGET == 1,:].apply(lambda x: x.fillna(x.median()))"
   ]
  },
  {
   "cell_type": "code",
   "execution_count": 64,
   "metadata": {},
   "outputs": [
    {
     "data": {
      "text/html": [
       "<div>\n",
       "<style scoped>\n",
       "    .dataframe tbody tr th:only-of-type {\n",
       "        vertical-align: middle;\n",
       "    }\n",
       "\n",
       "    .dataframe tbody tr th {\n",
       "        vertical-align: top;\n",
       "    }\n",
       "\n",
       "    .dataframe thead th {\n",
       "        text-align: right;\n",
       "    }\n",
       "</style>\n",
       "<table border=\"1\" class=\"dataframe\">\n",
       "  <thead>\n",
       "    <tr style=\"text-align: right;\">\n",
       "      <th></th>\n",
       "      <th>HS_CPF</th>\n",
       "      <th>ESTIMATIVARENDA</th>\n",
       "      <th>QTDDECLARACAOISENTA</th>\n",
       "      <th>ANOSULTIMARESTITUICAO</th>\n",
       "      <th>ANOSULTIMADECLARACAO</th>\n",
       "      <th>ANOSULTIMADECLARACAOPAGAR</th>\n",
       "      <th>TEMPOCPF</th>\n",
       "      <th>TARGET</th>\n",
       "      <th>QTDPESSOASCASA</th>\n",
       "    </tr>\n",
       "  </thead>\n",
       "  <tbody>\n",
       "    <tr>\n",
       "      <td>0</td>\n",
       "      <td>93036</td>\n",
       "      <td>1800</td>\n",
       "      <td>0</td>\n",
       "      <td>1.0</td>\n",
       "      <td>8.0</td>\n",
       "      <td>3.0</td>\n",
       "      <td>11.0</td>\n",
       "      <td>0.0</td>\n",
       "      <td>2.0</td>\n",
       "    </tr>\n",
       "    <tr>\n",
       "      <td>1</td>\n",
       "      <td>301999</td>\n",
       "      <td>1500</td>\n",
       "      <td>6</td>\n",
       "      <td>1.0</td>\n",
       "      <td>10.0</td>\n",
       "      <td>3.0</td>\n",
       "      <td>26.0</td>\n",
       "      <td>0.0</td>\n",
       "      <td>3.0</td>\n",
       "    </tr>\n",
       "    <tr>\n",
       "      <td>2</td>\n",
       "      <td>97233</td>\n",
       "      <td>8000</td>\n",
       "      <td>0</td>\n",
       "      <td>1.0</td>\n",
       "      <td>1.0</td>\n",
       "      <td>3.0</td>\n",
       "      <td>26.0</td>\n",
       "      <td>0.0</td>\n",
       "      <td>3.0</td>\n",
       "    </tr>\n",
       "    <tr>\n",
       "      <td>3</td>\n",
       "      <td>189292</td>\n",
       "      <td>4500</td>\n",
       "      <td>3</td>\n",
       "      <td>1.0</td>\n",
       "      <td>1.0</td>\n",
       "      <td>3.0</td>\n",
       "      <td>17.0</td>\n",
       "      <td>1.0</td>\n",
       "      <td>3.0</td>\n",
       "    </tr>\n",
       "    <tr>\n",
       "      <td>4</td>\n",
       "      <td>382690</td>\n",
       "      <td>3000</td>\n",
       "      <td>2</td>\n",
       "      <td>5.0</td>\n",
       "      <td>5.0</td>\n",
       "      <td>3.0</td>\n",
       "      <td>17.0</td>\n",
       "      <td>0.0</td>\n",
       "      <td>3.0</td>\n",
       "    </tr>\n",
       "  </tbody>\n",
       "</table>\n",
       "</div>"
      ],
      "text/plain": [
       "   HS_CPF  ESTIMATIVARENDA  QTDDECLARACAOISENTA  ANOSULTIMARESTITUICAO  \\\n",
       "0   93036             1800                    0                    1.0   \n",
       "1  301999             1500                    6                    1.0   \n",
       "2   97233             8000                    0                    1.0   \n",
       "3  189292             4500                    3                    1.0   \n",
       "4  382690             3000                    2                    5.0   \n",
       "\n",
       "   ANOSULTIMADECLARACAO  ANOSULTIMADECLARACAOPAGAR  TEMPOCPF  TARGET  \\\n",
       "0                   8.0                        3.0      11.0     0.0   \n",
       "1                  10.0                        3.0      26.0     0.0   \n",
       "2                   1.0                        3.0      26.0     0.0   \n",
       "3                   1.0                        3.0      17.0     1.0   \n",
       "4                   5.0                        3.0      17.0     0.0   \n",
       "\n",
       "   QTDPESSOASCASA  \n",
       "0             2.0  \n",
       "1             3.0  \n",
       "2             3.0  \n",
       "3             3.0  \n",
       "4             3.0  "
      ]
     },
     "execution_count": 64,
     "metadata": {},
     "output_type": "execute_result"
    }
   ],
   "source": [
    "df2.head()"
   ]
  },
  {
   "cell_type": "code",
   "execution_count": 66,
   "metadata": {},
   "outputs": [
    {
     "name": "stdout",
     "output_type": "stream",
     "text": [
      "False\n"
     ]
    }
   ],
   "source": [
    "# Retorna False se não tiver NaN no dataframe\n",
    "check = df2.isnull().values.any()\n",
    "print (check)"
   ]
  },
  {
   "cell_type": "code",
   "execution_count": 84,
   "metadata": {},
   "outputs": [
    {
     "data": {
      "text/plain": [
       "0.0    191900\n",
       "1.0     32577\n",
       "Name: TARGET, dtype: int64"
      ]
     },
     "execution_count": 84,
     "metadata": {},
     "output_type": "execute_result"
    }
   ],
   "source": [
    "df2['TARGET'].value_counts()"
   ]
  },
  {
   "cell_type": "code",
   "execution_count": 94,
   "metadata": {},
   "outputs": [
    {
     "data": {
      "text/plain": [
       "0.0    178284\n",
       "1.0     31442\n",
       "Name: TARGET, dtype: int64"
      ]
     },
     "execution_count": 94,
     "metadata": {},
     "output_type": "execute_result"
    }
   ],
   "source": [
    "# Trabalhando com os quartis de 1,5, mas excluiria muitos registros (191900 - 178284)\n",
    "# Não foi aplicado\n",
    "ESTIMATIVARENDA = df2['ESTIMATIVARENDA']\n",
    "Q1 = ESTIMATIVARENDA.quantile(.25)\n",
    "Q3 = ESTIMATIVARENDA.quantile(.75)\n",
    "IIQ = Q3 - Q1\n",
    "limite_inferior = Q1 - 1.5 * IIQ\n",
    "limite_superior = Q3 + 1.5 * IIQ\n",
    "\n",
    "selecao = ( ESTIMATIVARENDA>=limite_inferior) & (ESTIMATIVARENDA <= limite_superior)\n",
    "dados_new = df2[selecao]\n",
    "\n",
    "dados_new['TARGET'].value_counts()"
   ]
  },
  {
   "cell_type": "code",
   "execution_count": null,
   "metadata": {},
   "outputs": [],
   "source": [
    "df2.to_csv(\"D:/puc/oficina maker machine learning/drive_trabalho/treino_limpo.csv\",index = True)"
   ]
  },
  {
   "cell_type": "code",
   "execution_count": null,
   "metadata": {},
   "outputs": [],
   "source": []
  },
  {
   "cell_type": "code",
   "execution_count": null,
   "metadata": {},
   "outputs": [],
   "source": []
  },
  {
   "cell_type": "code",
   "execution_count": null,
   "metadata": {},
   "outputs": [],
   "source": []
  },
  {
   "cell_type": "code",
   "execution_count": null,
   "metadata": {
    "id": "bVcS6jA1sUOs"
   },
   "outputs": [],
   "source": []
  },
  {
   "cell_type": "code",
   "execution_count": null,
   "metadata": {
    "id": "IoHkSGUwSj0K"
   },
   "outputs": [],
   "source": []
  }
 ],
 "metadata": {
  "colab": {
   "collapsed_sections": [],
   "name": "2_preparacao_eda.ipynb",
   "provenance": []
  },
  "kernelspec": {
   "display_name": "Python 3",
   "language": "python",
   "name": "python3"
  },
  "language_info": {
   "codemirror_mode": {
    "name": "ipython",
    "version": 3
   },
   "file_extension": ".py",
   "mimetype": "text/x-python",
   "name": "python",
   "nbconvert_exporter": "python",
   "pygments_lexer": "ipython3",
   "version": "3.7.4"
  }
 },
 "nbformat": 4,
 "nbformat_minor": 1
}
