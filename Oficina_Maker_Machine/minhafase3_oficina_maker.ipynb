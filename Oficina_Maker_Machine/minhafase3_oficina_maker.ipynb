{
 "cells": [
  {
   "cell_type": "markdown",
   "metadata": {},
   "source": [
    "# Importando Bibliotecas"
   ]
  },
  {
   "cell_type": "code",
   "execution_count": 1,
   "metadata": {
    "id": "OqLqXu7Z4qFu"
   },
   "outputs": [],
   "source": [
    "import pandas as pd\n",
    "from sklearn.feature_selection import SelectKBest, chi2\n",
    "from sklearn.feature_selection import VarianceThreshold\n",
    "from sklearn.model_selection import train_test_split\n",
    "from sklearn.tree import DecisionTreeClassifier\n",
    "from sklearn.metrics import classification_report\n",
    "from sklearn.metrics import confusion_matrix, ConfusionMatrixDisplay"
   ]
  },
  {
   "cell_type": "code",
   "execution_count": 2,
   "metadata": {
    "colab": {
     "base_uri": "https://localhost:8080/"
    },
    "id": "hA4318HX9Bdp",
    "outputId": "372e383e-2851-45f5-ed0f-ac04efd0ebcd"
   },
   "outputs": [],
   "source": [
    "import pandas as pd\n",
    "import numpy as np\n",
    "from sklearn.model_selection import train_test_split\n",
    "\n",
    "import seaborn as sns\n",
    "import matplotlib.pyplot as plt\n",
    "\n",
    "import pandas as pd\n",
    "from sklearn.feature_selection import SelectKBest, chi2\n",
    "from sklearn.feature_selection import VarianceThreshold\n",
    "from sklearn.model_selection import train_test_split\n",
    "from sklearn.tree import DecisionTreeClassifier\n",
    "from sklearn.metrics import classification_report\n",
    "\n",
    "\n",
    "from sklearn.linear_model import LogisticRegression\n",
    "from sklearn.naive_bayes import GaussianNB,BernoulliNB\n",
    "from sklearn.ensemble import RandomForestClassifier, VotingClassifier\n",
    "from sklearn.tree import DecisionTreeClassifier\n",
    "from sklearn.ensemble import GradientBoostingClassifier\n",
    "\n",
    "from sklearn.model_selection import train_test_split\n",
    "from sklearn.model_selection import cross_val_score\n",
    "from sklearn.metrics import confusion_matrix,make_scorer,f1_score,recall_score,accuracy_score,precision_score,balanced_accuracy_score\n",
    "import sklearn.metrics as metrics\n",
    "from sklearn.pipeline import Pipeline\n",
    "from sklearn.preprocessing import Normalizer,StandardScaler,MinMaxScaler\n",
    "from sklearn.model_selection import RandomizedSearchCV\n"
   ]
  },
  {
   "cell_type": "markdown",
   "metadata": {},
   "source": [
    "## Abrindo os arquivos de treino e de testes"
   ]
  },
  {
   "cell_type": "code",
   "execution_count": 3,
   "metadata": {},
   "outputs": [],
   "source": [
    "# Treino e Teste"
   ]
  },
  {
   "cell_type": "code",
   "execution_count": 4,
   "metadata": {
    "id": "NK1Cw_B_GmcD"
   },
   "outputs": [],
   "source": [
    "dados_treino = pd.read_csv(\"D:/puc/oficina maker machine learning/drive_trabalho/treino_limpo.csv\")\n",
    "dados_teste = pd.read_csv(\"D:/puc/oficina maker machine learning/drive_trabalho/teste_limpo.csv\")"
   ]
  },
  {
   "cell_type": "code",
   "execution_count": 5,
   "metadata": {},
   "outputs": [
    {
     "data": {
      "text/plain": [
       "(224477, 12)"
      ]
     },
     "execution_count": 5,
     "metadata": {},
     "output_type": "execute_result"
    }
   ],
   "source": [
    "dados_treino.shape"
   ]
  },
  {
   "cell_type": "code",
   "execution_count": 6,
   "metadata": {},
   "outputs": [
    {
     "data": {
      "text/plain": [
       "(210785, 12)"
      ]
     },
     "execution_count": 6,
     "metadata": {},
     "output_type": "execute_result"
    }
   ],
   "source": [
    "dados_teste.shape"
   ]
  },
  {
   "cell_type": "code",
   "execution_count": 7,
   "metadata": {},
   "outputs": [
    {
     "data": {
      "text/plain": [
       "HS_CPF                       False\n",
       "ESTIMATIVARENDA              False\n",
       "QTDDECLARACAOISENTA          False\n",
       "ANOSULTIMARESTITUICAO        False\n",
       "ANOSULTIMADECLARACAO         False\n",
       "ANOSULTIMADECLARACAOPAGAR    False\n",
       "IDADEMEDIACEP                False\n",
       "TEMPOCPF                     False\n",
       "DISTZONARISCO                False\n",
       "TARGET                       False\n",
       "QTDPESSOASCASA               False\n",
       "ESTIMATIVARENDA_CAT          False\n",
       "dtype: bool"
      ]
     },
     "execution_count": 7,
     "metadata": {},
     "output_type": "execute_result"
    }
   ],
   "source": [
    "dados_treino.isnull().any()"
   ]
  },
  {
   "cell_type": "code",
   "execution_count": 8,
   "metadata": {},
   "outputs": [
    {
     "data": {
      "text/plain": [
       "HS_CPF                       False\n",
       "ESTIMATIVARENDA              False\n",
       "QTDDECLARACAOISENTA          False\n",
       "ANOSULTIMARESTITUICAO        False\n",
       "ANOSULTIMADECLARACAO         False\n",
       "ANOSULTIMADECLARACAOPAGAR    False\n",
       "IDADEMEDIACEP                False\n",
       "TEMPOCPF                     False\n",
       "DISTZONARISCO                False\n",
       "TARGET                       False\n",
       "QTDPESSOASCASA               False\n",
       "ESTIMATIVARENDA_CAT          False\n",
       "dtype: bool"
      ]
     },
     "execution_count": 8,
     "metadata": {},
     "output_type": "execute_result"
    }
   ],
   "source": [
    "dados_teste.isnull().any()"
   ]
  },
  {
   "cell_type": "markdown",
   "metadata": {},
   "source": [
    "# Normalizando"
   ]
  },
  {
   "cell_type": "code",
   "execution_count": 9,
   "metadata": {},
   "outputs": [],
   "source": [
    "from sklearn import preprocessing\n",
    "\n",
    "min_max_scaler = preprocessing.MinMaxScaler()\n",
    "np_scaled = min_max_scaler.fit_transform(dados_treino)\n",
    "dados_treino = pd.DataFrame(np_scaled, columns=dados_treino.columns)\n"
   ]
  },
  {
   "cell_type": "code",
   "execution_count": 10,
   "metadata": {},
   "outputs": [
    {
     "data": {
      "text/html": [
       "<div>\n",
       "<style scoped>\n",
       "    .dataframe tbody tr th:only-of-type {\n",
       "        vertical-align: middle;\n",
       "    }\n",
       "\n",
       "    .dataframe tbody tr th {\n",
       "        vertical-align: top;\n",
       "    }\n",
       "\n",
       "    .dataframe thead th {\n",
       "        text-align: right;\n",
       "    }\n",
       "</style>\n",
       "<table border=\"1\" class=\"dataframe\">\n",
       "  <thead>\n",
       "    <tr style=\"text-align: right;\">\n",
       "      <th></th>\n",
       "      <th>HS_CPF</th>\n",
       "      <th>ESTIMATIVARENDA</th>\n",
       "      <th>QTDDECLARACAOISENTA</th>\n",
       "      <th>ANOSULTIMARESTITUICAO</th>\n",
       "      <th>ANOSULTIMADECLARACAO</th>\n",
       "      <th>ANOSULTIMADECLARACAOPAGAR</th>\n",
       "      <th>IDADEMEDIACEP</th>\n",
       "      <th>TEMPOCPF</th>\n",
       "      <th>DISTZONARISCO</th>\n",
       "      <th>TARGET</th>\n",
       "      <th>QTDPESSOASCASA</th>\n",
       "      <th>ESTIMATIVARENDA_CAT</th>\n",
       "    </tr>\n",
       "  </thead>\n",
       "  <tbody>\n",
       "    <tr>\n",
       "      <td>0</td>\n",
       "      <td>0.237663</td>\n",
       "      <td>0.047297</td>\n",
       "      <td>0.000000</td>\n",
       "      <td>0.0</td>\n",
       "      <td>0.35</td>\n",
       "      <td>0.117647</td>\n",
       "      <td>0.379310</td>\n",
       "      <td>0.384615</td>\n",
       "      <td>0.042885</td>\n",
       "      <td>0.0</td>\n",
       "      <td>0.000</td>\n",
       "      <td>0.666667</td>\n",
       "    </tr>\n",
       "    <tr>\n",
       "      <td>1</td>\n",
       "      <td>0.771472</td>\n",
       "      <td>0.037162</td>\n",
       "      <td>0.666667</td>\n",
       "      <td>0.0</td>\n",
       "      <td>0.45</td>\n",
       "      <td>0.117647</td>\n",
       "      <td>0.448276</td>\n",
       "      <td>0.961538</td>\n",
       "      <td>0.160416</td>\n",
       "      <td>0.0</td>\n",
       "      <td>0.125</td>\n",
       "      <td>0.666667</td>\n",
       "    </tr>\n",
       "  </tbody>\n",
       "</table>\n",
       "</div>"
      ],
      "text/plain": [
       "     HS_CPF  ESTIMATIVARENDA  QTDDECLARACAOISENTA  ANOSULTIMARESTITUICAO  \\\n",
       "0  0.237663         0.047297             0.000000                    0.0   \n",
       "1  0.771472         0.037162             0.666667                    0.0   \n",
       "\n",
       "   ANOSULTIMADECLARACAO  ANOSULTIMADECLARACAOPAGAR  IDADEMEDIACEP  TEMPOCPF  \\\n",
       "0                  0.35                   0.117647       0.379310  0.384615   \n",
       "1                  0.45                   0.117647       0.448276  0.961538   \n",
       "\n",
       "   DISTZONARISCO  TARGET  QTDPESSOASCASA  ESTIMATIVARENDA_CAT  \n",
       "0       0.042885     0.0           0.000             0.666667  \n",
       "1       0.160416     0.0           0.125             0.666667  "
      ]
     },
     "execution_count": 10,
     "metadata": {},
     "output_type": "execute_result"
    }
   ],
   "source": [
    "dados_treino.head(2)\n"
   ]
  },
  {
   "cell_type": "code",
   "execution_count": 11,
   "metadata": {},
   "outputs": [
    {
     "data": {
      "text/plain": [
       "(224477, 12)"
      ]
     },
     "execution_count": 11,
     "metadata": {},
     "output_type": "execute_result"
    }
   ],
   "source": [
    "dados_treino.shape\n"
   ]
  },
  {
   "cell_type": "code",
   "execution_count": 12,
   "metadata": {},
   "outputs": [
    {
     "data": {
      "text/plain": [
       "Index(['HS_CPF', 'ESTIMATIVARENDA', 'QTDDECLARACAOISENTA',\n",
       "       'ANOSULTIMARESTITUICAO', 'ANOSULTIMADECLARACAO',\n",
       "       'ANOSULTIMADECLARACAOPAGAR', 'IDADEMEDIACEP', 'TEMPOCPF',\n",
       "       'DISTZONARISCO', 'TARGET', 'QTDPESSOASCASA', 'ESTIMATIVARENDA_CAT'],\n",
       "      dtype='object')"
      ]
     },
     "execution_count": 12,
     "metadata": {},
     "output_type": "execute_result"
    }
   ],
   "source": [
    "dados_treino.columns"
   ]
  },
  {
   "cell_type": "code",
   "execution_count": 13,
   "metadata": {},
   "outputs": [],
   "source": [
    "# Movendo target pra ultima coluna\n",
    "dados_treino = dados_treino.reindex(columns=['HS_CPF', 'ESTIMATIVARENDA', 'QTDDECLARACAOISENTA',\n",
    "       'ANOSULTIMARESTITUICAO', 'ANOSULTIMADECLARACAO',\n",
    "       'ANOSULTIMADECLARACAOPAGAR', 'IDADEMEDIACEP', 'TEMPOCPF',\n",
    "       'DISTZONARISCO','QTDPESSOASCASA', 'ESTIMATIVARENDA_CAT', 'TARGET'])"
   ]
  },
  {
   "cell_type": "code",
   "execution_count": 14,
   "metadata": {},
   "outputs": [
    {
     "data": {
      "text/plain": [
       "(224477, 12)"
      ]
     },
     "execution_count": 14,
     "metadata": {},
     "output_type": "execute_result"
    }
   ],
   "source": [
    "dados_treino.head(2)\n",
    "dados_treino.shape"
   ]
  },
  {
   "cell_type": "code",
   "execution_count": 15,
   "metadata": {},
   "outputs": [
    {
     "data": {
      "text/plain": [
       "(210785, 12)"
      ]
     },
     "execution_count": 15,
     "metadata": {},
     "output_type": "execute_result"
    }
   ],
   "source": [
    "dados_teste.shape"
   ]
  },
  {
   "cell_type": "code",
   "execution_count": 16,
   "metadata": {},
   "outputs": [],
   "source": [
    "min_max_scaler = preprocessing.MinMaxScaler()\n",
    "np_scaled = min_max_scaler.fit_transform(dados_teste)\n",
    "dados_teste = pd.DataFrame(np_scaled, columns=dados_teste.columns)\n"
   ]
  },
  {
   "cell_type": "code",
   "execution_count": 17,
   "metadata": {},
   "outputs": [
    {
     "data": {
      "text/plain": [
       "(210785, 12)"
      ]
     },
     "execution_count": 17,
     "metadata": {},
     "output_type": "execute_result"
    }
   ],
   "source": [
    "dados_teste.head()\n",
    "dados_teste.shape"
   ]
  },
  {
   "cell_type": "code",
   "execution_count": 18,
   "metadata": {},
   "outputs": [
    {
     "data": {
      "text/plain": [
       "Index(['HS_CPF', 'ESTIMATIVARENDA', 'QTDDECLARACAOISENTA',\n",
       "       'ANOSULTIMARESTITUICAO', 'ANOSULTIMADECLARACAO',\n",
       "       'ANOSULTIMADECLARACAOPAGAR', 'IDADEMEDIACEP', 'TEMPOCPF',\n",
       "       'DISTZONARISCO', 'TARGET', 'QTDPESSOASCASA', 'ESTIMATIVARENDA_CAT'],\n",
       "      dtype='object')"
      ]
     },
     "execution_count": 18,
     "metadata": {},
     "output_type": "execute_result"
    }
   ],
   "source": [
    "dados_teste.columns"
   ]
  },
  {
   "cell_type": "code",
   "execution_count": 19,
   "metadata": {},
   "outputs": [],
   "source": [
    "dados_teste = dados_teste.reindex(columns=['HS_CPF', 'ESTIMATIVARENDA', 'QTDDECLARACAOISENTA',\n",
    "       'ANOSULTIMARESTITUICAO', 'ANOSULTIMADECLARACAO',\n",
    "       'ANOSULTIMADECLARACAOPAGAR', 'IDADEMEDIACEP', 'TEMPOCPF',\n",
    "       'DISTZONARISCO','QTDPESSOASCASA', 'ESTIMATIVARENDA_CAT', 'TARGET'])"
   ]
  },
  {
   "cell_type": "code",
   "execution_count": 20,
   "metadata": {},
   "outputs": [
    {
     "data": {
      "text/html": [
       "<div>\n",
       "<style scoped>\n",
       "    .dataframe tbody tr th:only-of-type {\n",
       "        vertical-align: middle;\n",
       "    }\n",
       "\n",
       "    .dataframe tbody tr th {\n",
       "        vertical-align: top;\n",
       "    }\n",
       "\n",
       "    .dataframe thead th {\n",
       "        text-align: right;\n",
       "    }\n",
       "</style>\n",
       "<table border=\"1\" class=\"dataframe\">\n",
       "  <thead>\n",
       "    <tr style=\"text-align: right;\">\n",
       "      <th></th>\n",
       "      <th>HS_CPF</th>\n",
       "      <th>ESTIMATIVARENDA</th>\n",
       "      <th>QTDDECLARACAOISENTA</th>\n",
       "      <th>ANOSULTIMARESTITUICAO</th>\n",
       "      <th>ANOSULTIMADECLARACAO</th>\n",
       "      <th>ANOSULTIMADECLARACAOPAGAR</th>\n",
       "      <th>IDADEMEDIACEP</th>\n",
       "      <th>TEMPOCPF</th>\n",
       "      <th>DISTZONARISCO</th>\n",
       "      <th>QTDPESSOASCASA</th>\n",
       "      <th>ESTIMATIVARENDA_CAT</th>\n",
       "      <th>TARGET</th>\n",
       "    </tr>\n",
       "  </thead>\n",
       "  <tbody>\n",
       "    <tr>\n",
       "      <td>0</td>\n",
       "      <td>0.443688</td>\n",
       "      <td>0.027027</td>\n",
       "      <td>1.0</td>\n",
       "      <td>0.0</td>\n",
       "      <td>0.0</td>\n",
       "      <td>0.064516</td>\n",
       "      <td>0.481481</td>\n",
       "      <td>0.962963</td>\n",
       "      <td>0.035028</td>\n",
       "      <td>0.000</td>\n",
       "      <td>0.666667</td>\n",
       "      <td>0.0</td>\n",
       "    </tr>\n",
       "    <tr>\n",
       "      <td>1</td>\n",
       "      <td>0.700741</td>\n",
       "      <td>0.206081</td>\n",
       "      <td>0.0</td>\n",
       "      <td>0.0</td>\n",
       "      <td>0.0</td>\n",
       "      <td>0.032258</td>\n",
       "      <td>0.388889</td>\n",
       "      <td>1.000000</td>\n",
       "      <td>0.045349</td>\n",
       "      <td>0.375</td>\n",
       "      <td>1.000000</td>\n",
       "      <td>0.0</td>\n",
       "    </tr>\n",
       "  </tbody>\n",
       "</table>\n",
       "</div>"
      ],
      "text/plain": [
       "     HS_CPF  ESTIMATIVARENDA  QTDDECLARACAOISENTA  ANOSULTIMARESTITUICAO  \\\n",
       "0  0.443688         0.027027                  1.0                    0.0   \n",
       "1  0.700741         0.206081                  0.0                    0.0   \n",
       "\n",
       "   ANOSULTIMADECLARACAO  ANOSULTIMADECLARACAOPAGAR  IDADEMEDIACEP  TEMPOCPF  \\\n",
       "0                   0.0                   0.064516       0.481481  0.962963   \n",
       "1                   0.0                   0.032258       0.388889  1.000000   \n",
       "\n",
       "   DISTZONARISCO  QTDPESSOASCASA  ESTIMATIVARENDA_CAT  TARGET  \n",
       "0       0.035028           0.000             0.666667     0.0  \n",
       "1       0.045349           0.375             1.000000     0.0  "
      ]
     },
     "execution_count": 20,
     "metadata": {},
     "output_type": "execute_result"
    }
   ],
   "source": [
    "dados_teste.head(2)"
   ]
  },
  {
   "cell_type": "code",
   "execution_count": 21,
   "metadata": {},
   "outputs": [
    {
     "data": {
      "text/plain": [
       "(210785, 12)"
      ]
     },
     "execution_count": 21,
     "metadata": {},
     "output_type": "execute_result"
    }
   ],
   "source": [
    "dados_teste.shape"
   ]
  },
  {
   "cell_type": "markdown",
   "metadata": {},
   "source": [
    "# Excluindo coluna sem influência no Target"
   ]
  },
  {
   "cell_type": "code",
   "execution_count": 22,
   "metadata": {},
   "outputs": [],
   "source": [
    "dados_treino.drop(['HS_CPF'], axis=1, inplace=True)"
   ]
  },
  {
   "cell_type": "code",
   "execution_count": 23,
   "metadata": {},
   "outputs": [
    {
     "data": {
      "text/plain": [
       "Index(['ESTIMATIVARENDA', 'QTDDECLARACAOISENTA', 'ANOSULTIMARESTITUICAO',\n",
       "       'ANOSULTIMADECLARACAO', 'ANOSULTIMADECLARACAOPAGAR', 'IDADEMEDIACEP',\n",
       "       'TEMPOCPF', 'DISTZONARISCO', 'QTDPESSOASCASA', 'ESTIMATIVARENDA_CAT',\n",
       "       'TARGET'],\n",
       "      dtype='object')"
      ]
     },
     "execution_count": 23,
     "metadata": {},
     "output_type": "execute_result"
    }
   ],
   "source": [
    "dados_treino.columns"
   ]
  },
  {
   "cell_type": "code",
   "execution_count": 24,
   "metadata": {},
   "outputs": [],
   "source": [
    "dados_teste.drop(['HS_CPF'], axis=1, inplace=True)"
   ]
  },
  {
   "cell_type": "code",
   "execution_count": 25,
   "metadata": {},
   "outputs": [
    {
     "data": {
      "text/plain": [
       "Index(['ESTIMATIVARENDA', 'QTDDECLARACAOISENTA', 'ANOSULTIMARESTITUICAO',\n",
       "       'ANOSULTIMADECLARACAO', 'ANOSULTIMADECLARACAOPAGAR', 'IDADEMEDIACEP',\n",
       "       'TEMPOCPF', 'DISTZONARISCO', 'QTDPESSOASCASA', 'ESTIMATIVARENDA_CAT',\n",
       "       'TARGET'],\n",
       "      dtype='object')"
      ]
     },
     "execution_count": 25,
     "metadata": {},
     "output_type": "execute_result"
    }
   ],
   "source": [
    "dados_teste.columns"
   ]
  },
  {
   "cell_type": "code",
   "execution_count": 26,
   "metadata": {},
   "outputs": [
    {
     "data": {
      "text/plain": [
       "(224477, 10)"
      ]
     },
     "execution_count": 26,
     "metadata": {},
     "output_type": "execute_result"
    }
   ],
   "source": [
    "X_train, y_train = dados_treino.iloc[:,:-1], dados_treino.iloc[:, -1]\n",
    "X_train.shape\n"
   ]
  },
  {
   "cell_type": "code",
   "execution_count": 27,
   "metadata": {},
   "outputs": [
    {
     "data": {
      "text/plain": [
       "(210785,)"
      ]
     },
     "execution_count": 27,
     "metadata": {},
     "output_type": "execute_result"
    }
   ],
   "source": [
    "X_test, y_test = dados_teste.iloc[:,:-1], dados_teste.iloc[:, -1]\n",
    "y_test.shape"
   ]
  },
  {
   "cell_type": "markdown",
   "metadata": {},
   "source": [
    "# Kolmogorov"
   ]
  },
  {
   "cell_type": "code",
   "execution_count": 28,
   "metadata": {},
   "outputs": [],
   "source": [
    "import scipy.stats as stats"
   ]
  },
  {
   "cell_type": "code",
   "execution_count": 29,
   "metadata": {},
   "outputs": [
    {
     "data": {
      "text/plain": [
       "Index(['ESTIMATIVARENDA', 'QTDDECLARACAOISENTA', 'ANOSULTIMARESTITUICAO',\n",
       "       'ANOSULTIMADECLARACAO', 'ANOSULTIMADECLARACAOPAGAR', 'IDADEMEDIACEP',\n",
       "       'TEMPOCPF', 'DISTZONARISCO', 'QTDPESSOASCASA', 'ESTIMATIVARENDA_CAT'],\n",
       "      dtype='object')"
      ]
     },
     "execution_count": 29,
     "metadata": {},
     "output_type": "execute_result"
    }
   ],
   "source": [
    "X_train.columns"
   ]
  },
  {
   "cell_type": "code",
   "execution_count": 30,
   "metadata": {},
   "outputs": [
    {
     "data": {
      "text/plain": [
       "Ks_2sampResult(statistic=0.0617486493583671, pvalue=0.0)"
      ]
     },
     "execution_count": 30,
     "metadata": {},
     "output_type": "execute_result"
    }
   ],
   "source": [
    "# Exemplo\n",
    "stats.ks_2samp(X_train.DISTZONARISCO, X_test.DISTZONARISCO)"
   ]
  },
  {
   "cell_type": "code",
   "execution_count": 31,
   "metadata": {},
   "outputs": [],
   "source": [
    "#for i in range(10):\n",
    "    #print(ks_2samp(X_train[:, i], X_test[:, i]))"
   ]
  },
  {
   "cell_type": "code",
   "execution_count": null,
   "metadata": {},
   "outputs": [],
   "source": []
  },
  {
   "cell_type": "markdown",
   "metadata": {},
   "source": [
    "# DecisionTree"
   ]
  },
  {
   "cell_type": "code",
   "execution_count": 32,
   "metadata": {},
   "outputs": [
    {
     "name": "stdout",
     "output_type": "stream",
     "text": [
      "Resultado sem balancear:\n",
      "              precision    recall  f1-score   support\n",
      "\n",
      "         0.0       0.96      0.85      0.90    202381\n",
      "         1.0       0.04      0.15      0.06      8404\n",
      "\n",
      "    accuracy                           0.82    210785\n",
      "   macro avg       0.50      0.50      0.48    210785\n",
      "weighted avg       0.92      0.82      0.87    210785\n",
      "\n",
      "Acurácia: 0.8184026377588538\n",
      "Recall: 0.14969062351261303\n",
      "Precision: 0.038839147885149736\n",
      "F1 Score: 0.061675736627935476\n",
      "Matriz de Confusão:\n",
      "[[171249  31132]\n",
      " [  7146   1258]]\n"
     ]
    },
    {
     "data": {
      "text/plain": [
       "<sklearn.metrics._plot.confusion_matrix.ConfusionMatrixDisplay at 0x4472cb0>"
      ]
     },
     "execution_count": 32,
     "metadata": {},
     "output_type": "execute_result"
    },
    {
     "data": {
      "image/png": "[encoded data removed]",
      "text/plain": [
       "<Figure size 432x288 with 2 Axes>"
      ]
     },
     "metadata": {
      "needs_background": "light"
     },
     "output_type": "display_data"
    }
   ],
   "source": [
    "from sklearn.metrics import accuracy_score, recall_score, confusion_matrix\n",
    "\n",
    "#X_train, X_test, y_train, y_test = train_test_split(dado, dados_teste, test_size=0.3, random_state=1)\n",
    "clf = DecisionTreeClassifier()\n",
    "clf.fit(X_train, y_train)\n",
    "y_pred = clf.predict(X_test)\n",
    "print('Resultado sem balancear:')\n",
    "print(classification_report(y_test, y_pred))\n",
    "print(\"Acurácia: {}\".format(accuracy_score(y_test,y_pred)))\n",
    "print(\"Recall: {}\" .format(recall_score(y_test,y_pred)))\n",
    "print(\"Precision: {}\" . format(precision_score(y_test, y_pred)))\n",
    "print(\"F1 Score: {}\".format(f1_score(y_test, y_pred)))\n",
    "print(\"Matriz de Confusão:\")\n",
    "print(confusion_matrix(y_test,y_pred))\n",
    "cm = confusion_matrix(y_test,y_pred)\n",
    "cmd = ConfusionMatrixDisplay(cm, display_labels=['0','1'])\n",
    "cmd.plot()\n"
   ]
  },
  {
   "cell_type": "code",
   "execution_count": 33,
   "metadata": {},
   "outputs": [
    {
     "data": {
      "text/plain": [
       "Ks_2sampResult(statistic=0.6922893860066635, pvalue=0.0)"
      ]
     },
     "execution_count": 33,
     "metadata": {},
     "output_type": "execute_result"
    }
   ],
   "source": [
    "data1 = np.sort(clf.predict_proba(X_test[y_test==1])[:, 1])\n",
    "data2 = np.sort(clf.predict_proba(X_test[y_test==1])[:, 0])\n",
    "stats.ks_2samp(data1, data2)"
   ]
  },
  {
   "cell_type": "code",
   "execution_count": 317,
   "metadata": {},
   "outputs": [
    {
     "data": {
      "image/png": "[encoded data removed]",
      "text/plain": [
       "<Figure size 504x216 with 1 Axes>"
      ]
     },
     "metadata": {
      "needs_background": "light"
     },
     "output_type": "display_data"
    }
   ],
   "source": [
    "#Visualizacao\n",
    "plt.figure(figsize=(7, 3))\n",
    "last, i = 0, 0\n",
    "while i < len(data1):\n",
    "    plt.plot([last, data1[i]], [i/len(data1), i/len(data1)], 'k')\n",
    "    if i < len(data1):\n",
    "        last = data1[i]\n",
    "    i += 1\n",
    " \n",
    "last, i = 0, 0\n",
    "while i < len(data2):\n",
    "    plt.plot([last, data2[i]], [i/len(data2), i/len(data2)], 'r')\n",
    "    if i < len(data2):\n",
    "        last = data2[i]\n",
    "    i += 1\n"
   ]
  },
  {
   "cell_type": "markdown",
   "metadata": {},
   "source": [
    "## Random"
   ]
  },
  {
   "cell_type": "code",
   "execution_count": 34,
   "metadata": {},
   "outputs": [],
   "source": [
    "from sklearn.ensemble import RandomForestClassifier\n",
    "\n",
    "#Create a Gaussian Classifier\n",
    "clf=RandomForestClassifier(n_estimators=50)\n",
    "\n",
    "#Train the model using the training sets y_pred=clf.predict(X_test)\n",
    "clf.fit(X_train,y_train)\n",
    "\n",
    "y_pred=clf.predict(X_test)"
   ]
  },
  {
   "cell_type": "code",
   "execution_count": 35,
   "metadata": {},
   "outputs": [
    {
     "name": "stdout",
     "output_type": "stream",
     "text": [
      "              precision    recall  f1-score   support\n",
      "\n",
      "         0.0       0.96      0.97      0.97    202381\n",
      "         1.0       0.05      0.04      0.04      8404\n",
      "\n",
      "    accuracy                           0.94    210785\n",
      "   macro avg       0.51      0.50      0.50    210785\n",
      "weighted avg       0.92      0.94      0.93    210785\n",
      "\n",
      "Acurácia: 0.9357117441943212\n",
      "Recall: 0.03641123274631128\n",
      "Precision: 0.05313422469178677\n",
      "F1 Score: 0.04321118407117136\n",
      "Matriz de Confusão:\n",
      "[[196928   5453]\n",
      " [  8098    306]]\n"
     ]
    },
    {
     "data": {
      "text/plain": [
       "<sklearn.metrics._plot.confusion_matrix.ConfusionMatrixDisplay at 0x9754f10>"
      ]
     },
     "execution_count": 35,
     "metadata": {},
     "output_type": "execute_result"
    },
    {
     "data": {
      "image/png": "[encoded data removed]",
      "text/plain": [
       "<Figure size 432x288 with 2 Axes>"
      ]
     },
     "metadata": {
      "needs_background": "light"
     },
     "output_type": "display_data"
    }
   ],
   "source": [
    "print(classification_report(y_test, y_pred))\n",
    "print(\"Acurácia: {}\".format(accuracy_score(y_test,y_pred)))\n",
    "print(\"Recall: {}\" .format(recall_score(y_test,y_pred)))\n",
    "print(\"Precision: {}\" . format(precision_score(y_test, y_pred)))\n",
    "print(\"F1 Score: {}\".format(f1_score(y_test, y_pred)))\n",
    "print(\"Matriz de Confusão:\")\n",
    "print(confusion_matrix(y_test,y_pred))\n",
    "cm = confusion_matrix(y_test,y_pred)\n",
    "cmd = ConfusionMatrixDisplay(cm, display_labels=['0','1'])\n",
    "cmd.plot()"
   ]
  },
  {
   "cell_type": "code",
   "execution_count": 36,
   "metadata": {},
   "outputs": [
    {
     "data": {
      "text/plain": [
       "Ks_2sampResult(statistic=0.9375297477391719, pvalue=0.0)"
      ]
     },
     "execution_count": 36,
     "metadata": {},
     "output_type": "execute_result"
    }
   ],
   "source": [
    "data1 = np.sort(clf.predict_proba(X_test[y_test==1])[:, 1])\n",
    "data2 = np.sort(clf.predict_proba(X_test[y_test==1])[:, 0])\n",
    "stats.ks_2samp(data1, data2)"
   ]
  },
  {
   "cell_type": "markdown",
   "metadata": {},
   "source": [
    "# SVM"
   ]
  },
  {
   "cell_type": "code",
   "execution_count": null,
   "metadata": {},
   "outputs": [],
   "source": [
    "from sklearn import svm\n",
    "\n",
    "#Criando um Classificador SVR\n",
    "clf = svm.SVC()#(kernel='linear') # Linear Kernel\n",
    "\n",
    "#Treinando o modelo com o conjunto de treino\n",
    "clf.fit(X_train, y_train)\n",
    "\n",
    "#Fazendo a predição\n",
    "y_pred = clf.predict(X_test)"
   ]
  },
  {
   "cell_type": "code",
   "execution_count": null,
   "metadata": {},
   "outputs": [],
   "source": [
    "from sklearn import metrics\n",
    "\n",
    "# Model Accuracy: how often is the classifier correct?\n",
    "print(\"Accuracy:\",metrics.accuracy_score(y_test, y_pred))"
   ]
  },
  {
   "cell_type": "code",
   "execution_count": null,
   "metadata": {},
   "outputs": [],
   "source": [
    "print(classification_report(y_test, y_pred)) #zero_division\n",
    "print(\"Acurácia: {}\".format(accuracy_score(y_test,y_pred)))\n",
    "print(\"Recall: {}\" .format(recall_score(y_test,y_pred, zero_division=1)))\n",
    "print(\"Precision: {}\" . format(precision_score(y_test, y_pred, zero_division=1)))\n",
    "print(\"F1 Score: {}\".format(f1_score(y_test, y_pred, zero_division=1)))\n",
    "print(\"Matriz de Confusão:\")\n",
    "print(confusion_matrix(y_test,y_pred))\n",
    "cm = confusion_matrix(y_test,y_pred)\n",
    "cmd = ConfusionMatrixDisplay(cm, display_labels=['0','1'])\n",
    "cmd.plot()"
   ]
  },
  {
   "cell_type": "code",
   "execution_count": null,
   "metadata": {},
   "outputs": [],
   "source": [
    "data1 = np.sort(clf.predict_proba(X_test[y_test==1])[:, 1])\n",
    "data2 = np.sort(clf.predict_proba(X_test[y_test==1])[:, 0])\n",
    "stats.ks_2samp(data1, data2)"
   ]
  },
  {
   "cell_type": "markdown",
   "metadata": {},
   "source": [
    "# Naive Bayes"
   ]
  },
  {
   "cell_type": "code",
   "execution_count": 37,
   "metadata": {},
   "outputs": [],
   "source": [
    "#Import Gaussian Naive Bayes model\n",
    "from sklearn.naive_bayes import GaussianNB\n",
    "\n",
    "#Create a Gaussian Classifier\n",
    "clf = GaussianNB()\n",
    "\n",
    "#Train the model using the training sets\n",
    "clf.fit(X_train, y_train)\n",
    "\n",
    "#Predict the response for test dataset\n",
    "y_pred = clf.predict(X_test)"
   ]
  },
  {
   "cell_type": "code",
   "execution_count": 38,
   "metadata": {},
   "outputs": [
    {
     "name": "stdout",
     "output_type": "stream",
     "text": [
      "Accuracy: 0.7004483241217354\n"
     ]
    }
   ],
   "source": [
    "from sklearn import metrics\n",
    "\n",
    "# Model Accuracy, how often is the classifier correct?\n",
    "print(\"Accuracy:\",metrics.accuracy_score(y_test, y_pred))"
   ]
  },
  {
   "cell_type": "code",
   "execution_count": 39,
   "metadata": {},
   "outputs": [
    {
     "name": "stdout",
     "output_type": "stream",
     "text": [
      "              precision    recall  f1-score   support\n",
      "\n",
      "         0.0       0.97      0.71      0.82    202381\n",
      "         1.0       0.06      0.41      0.10      8404\n",
      "\n",
      "    accuracy                           0.70    210785\n",
      "   macro avg       0.51      0.56      0.46    210785\n",
      "weighted avg       0.93      0.70      0.79    210785\n",
      "\n",
      "Acurácia: 0.7004483241217354\n",
      "Recall: 0.4117087101380295\n",
      "Precision: 0.056116904812105683\n",
      "F1 Score: 0.09877107092390917\n",
      "Matriz de Confusão:\n",
      "[[144184  58197]\n",
      " [  4944   3460]]\n"
     ]
    },
    {
     "data": {
      "text/plain": [
       "<sklearn.metrics._plot.confusion_matrix.ConfusionMatrixDisplay at 0x91a08b0>"
      ]
     },
     "execution_count": 39,
     "metadata": {},
     "output_type": "execute_result"
    },
    {
     "data": {
      "image/png": "[encoded data removed]",
      "text/plain": [
       "<Figure size 432x288 with 2 Axes>"
      ]
     },
     "metadata": {
      "needs_background": "light"
     },
     "output_type": "display_data"
    }
   ],
   "source": [
    "print(classification_report(y_test, y_pred))\n",
    "print(\"Acurácia: {}\".format(accuracy_score(y_test,y_pred)))\n",
    "print(\"Recall: {}\" .format(recall_score(y_test,y_pred)))\n",
    "print(\"Precision: {}\" . format(precision_score(y_test, y_pred)))\n",
    "print(\"F1 Score: {}\".format(f1_score(y_test, y_pred)))\n",
    "print(\"Matriz de Confusão:\")\n",
    "print(confusion_matrix(y_test,y_pred))\n",
    "cm = confusion_matrix(y_test,y_pred)\n",
    "cmd = ConfusionMatrixDisplay(cm, display_labels=['0','1'])\n",
    "cmd.plot()"
   ]
  },
  {
   "cell_type": "code",
   "execution_count": null,
   "metadata": {},
   "outputs": [],
   "source": [
    "data1 = np.sort(clf.predict_proba(X_test[y_test==1])[:, 1])\n",
    "data2 = np.sort(clf.predict_proba(X_test[y_test==1])[:, 0])\n",
    "stats.ks_2samp(data1, data2)"
   ]
  },
  {
   "cell_type": "markdown",
   "metadata": {},
   "source": [
    "# Logistic Regression"
   ]
  },
  {
   "cell_type": "code",
   "execution_count": 96,
   "metadata": {},
   "outputs": [],
   "source": [
    "from sklearn.linear_model import LogisticRegression\n",
    "\n",
    "# instantiate the model (using the default parameters)\n",
    "clf = LogisticRegression()\n",
    "\n",
    "# fit the model with data\n",
    "clf.fit(X_train,y_train)\n",
    "\n",
    "#\n",
    "y_pred=clf.predict(X_test)"
   ]
  },
  {
   "cell_type": "code",
   "execution_count": 98,
   "metadata": {},
   "outputs": [
    {
     "name": "stdout",
     "output_type": "stream",
     "text": [
      "              precision    recall  f1-score   support\n",
      "\n",
      "         0.0       0.96      1.00      0.98    202381\n",
      "         1.0       0.00      0.00      0.00      8404\n",
      "\n",
      "    accuracy                           0.96    210785\n",
      "   macro avg       0.48      0.50      0.49    210785\n",
      "weighted avg       0.92      0.96      0.94    210785\n",
      "\n",
      "Acurácia: 0.9601299902744502\n",
      "Recall: 0.0\n",
      "Precision: 1.0\n",
      "F1 Score: 0.0\n",
      "Matriz de Confusão:\n",
      "[[202381      0]\n",
      " [  8404      0]]\n"
     ]
    },
    {
     "data": {
      "text/plain": [
       "<sklearn.metrics._plot.confusion_matrix.ConfusionMatrixDisplay at 0xeac030>"
      ]
     },
     "execution_count": 98,
     "metadata": {},
     "output_type": "execute_result"
    },
    {
     "data": {
      "image/png": "[encoded data removed]",
      "text/plain": [
       "<Figure size 432x288 with 2 Axes>"
      ]
     },
     "metadata": {
      "needs_background": "light"
     },
     "output_type": "display_data"
    }
   ],
   "source": [
    "print(classification_report(y_test, y_pred))\n",
    "print(\"Acurácia: {}\".format(accuracy_score(y_test,y_pred)))\n",
    "print(\"Recall: {}\" .format(recall_score(y_test,y_pred, zero_division=1)))\n",
    "print(\"Precision: {}\" . format(precision_score(y_test, y_pred, zero_division=1)))\n",
    "print(\"F1 Score: {}\".format(f1_score(y_test, y_pred, zero_division=1)))\n",
    "print(\"Matriz de Confusão:\")\n",
    "print(confusion_matrix(y_test,y_pred))\n",
    "cm = confusion_matrix(y_test,y_pred)\n",
    "cmd = ConfusionMatrixDisplay(cm, display_labels=['0','1'])\n",
    "cmd.plot()"
   ]
  },
  {
   "cell_type": "code",
   "execution_count": null,
   "metadata": {},
   "outputs": [],
   "source": [
    "class_names=[0,1] # name  of classes\n",
    "fig, ax = plt.subplots()\n",
    "tick_marks = np.arange(len(class_names))\n",
    "plt.xticks(tick_marks, class_names)\n",
    "plt.yticks(tick_marks, class_names)\n",
    "# create heatmap\n",
    "sns.heatmap(pd.DataFrame(cnf_matrix), annot=True, cmap=\"YlGnBu\" ,fmt='g')\n",
    "ax.xaxis.set_label_position(\"top\")\n",
    "plt.tight_layout()\n",
    "plt.title('Confusion matrix', y=1.1)\n",
    "plt.ylabel('Actual label')\n",
    "plt.xlabel('Predicted label')"
   ]
  },
  {
   "cell_type": "code",
   "execution_count": null,
   "metadata": {
    "id": "u46pTjFZ9BCK"
   },
   "outputs": [],
   "source": [
    "data1 = np.sort(clf.predict_proba(X_test[y_test==1])[:, 1])\n",
    "data2 = np.sort(clf.predict_proba(X_test[y_test==1])[:, 0])\n",
    "stats.ks_2samp(data1, data2)"
   ]
  },
  {
   "cell_type": "markdown",
   "metadata": {
    "id": "LJnr5daL84SV"
   },
   "source": [
    "# Boosting'"
   ]
  },
  {
   "cell_type": "code",
   "execution_count": 48,
   "metadata": {},
   "outputs": [],
   "source": [
    "from sklearn.ensemble import AdaBoostClassifier\n",
    "\n",
    "clf = AdaBoostClassifier(n_estimators=100,learning_rate=1,algorithm='SAMME')\n",
    "\n",
    "clf.fit(X_train,y_train)\n",
    "y_pred=clf.predict(X_test)"
   ]
  },
  {
   "cell_type": "code",
   "execution_count": 49,
   "metadata": {},
   "outputs": [
    {
     "name": "stderr",
     "output_type": "stream",
     "text": [
      "C:\\Users\\ricar\\Anaconda3\\lib\\site-packages\\sklearn\\metrics\\_classification.py:1221: UndefinedMetricWarning: Precision and F-score are ill-defined and being set to 0.0 in labels with no predicted samples. Use `zero_division` parameter to control this behavior.\n",
      "  _warn_prf(average, modifier, msg_start, len(result))\n"
     ]
    },
    {
     "name": "stdout",
     "output_type": "stream",
     "text": [
      "              precision    recall  f1-score   support\n",
      "\n",
      "         0.0       0.96      1.00      0.98    202381\n",
      "         1.0       0.00      0.00      0.00      8404\n",
      "\n",
      "    accuracy                           0.96    210785\n",
      "   macro avg       0.48      0.50      0.49    210785\n",
      "weighted avg       0.92      0.96      0.94    210785\n",
      "\n",
      "Acurácia: 0.9601299902744502\n",
      "Recall: 0.0\n",
      "Precision: 1.0\n",
      "F1 Score: 0.0\n",
      "Matriz de Confusão:\n",
      "[[202381      0]\n",
      " [  8404      0]]\n"
     ]
    },
    {
     "data": {
      "text/plain": [
       "<sklearn.metrics._plot.confusion_matrix.ConfusionMatrixDisplay at 0xb81db0>"
      ]
     },
     "execution_count": 49,
     "metadata": {},
     "output_type": "execute_result"
    },
    {
     "data": {
      "image/png": "[encoded data removed]",
      "text/plain": [
       "<Figure size 432x288 with 2 Axes>"
      ]
     },
     "metadata": {
      "needs_background": "light"
     },
     "output_type": "display_data"
    }
   ],
   "source": [
    "print(classification_report(y_test, y_pred))\n",
    "print(\"Acurácia: {}\".format(accuracy_score(y_test,y_pred)))\n",
    "print(\"Recall: {}\" .format(recall_score(y_test,y_pred, zero_division=1)))\n",
    "print(\"Precision: {}\" . format(precision_score(y_test, y_pred, zero_division=1)))\n",
    "print(\"F1 Score: {}\".format(f1_score(y_test, y_pred, zero_division=1)))\n",
    "print(\"Matriz de Confusão:\")\n",
    "print(confusion_matrix(y_test,y_pred))\n",
    "cm = confusion_matrix(y_test,y_pred)\n",
    "cmd = ConfusionMatrixDisplay(cm, display_labels=['0','1'])\n",
    "cmd.plot()"
   ]
  },
  {
   "cell_type": "markdown",
   "metadata": {},
   "source": [
    "# Bagging"
   ]
  },
  {
   "cell_type": "code",
   "execution_count": 40,
   "metadata": {},
   "outputs": [],
   "source": [
    "from sklearn.svm import SVC\n",
    "from sklearn.ensemble import BaggingClassifier\n",
    "from sklearn.datasets import make_classification"
   ]
  },
  {
   "cell_type": "code",
   "execution_count": 41,
   "metadata": {},
   "outputs": [],
   "source": [
    "clf = BaggingClassifier()"
   ]
  },
  {
   "cell_type": "code",
   "execution_count": 42,
   "metadata": {},
   "outputs": [
    {
     "data": {
      "text/plain": [
       "BaggingClassifier()"
      ]
     },
     "execution_count": 42,
     "metadata": {},
     "output_type": "execute_result"
    }
   ],
   "source": [
    "clf.fit(X_train, y_train)"
   ]
  },
  {
   "cell_type": "code",
   "execution_count": 43,
   "metadata": {},
   "outputs": [],
   "source": [
    "y_pred=clf.predict(X_test)"
   ]
  },
  {
   "cell_type": "code",
   "execution_count": 44,
   "metadata": {},
   "outputs": [
    {
     "name": "stdout",
     "output_type": "stream",
     "text": [
      "              precision    recall  f1-score   support\n",
      "\n",
      "         0.0       0.96      0.96      0.96    202381\n",
      "         1.0       0.05      0.06      0.06      8404\n",
      "\n",
      "    accuracy                           0.92    210785\n",
      "   macro avg       0.51      0.51      0.51    210785\n",
      "weighted avg       0.92      0.92      0.92    210785\n",
      "\n",
      "Acurácia: 0.9219583936238347\n",
      "Recall: 0.057710613993336504\n",
      "Precision: 0.05379325643300799\n",
      "F1 Score: 0.05568312284730195\n",
      "Matriz de Confusão:\n",
      "[[193850   8531]\n",
      " [  7919    485]]\n"
     ]
    },
    {
     "data": {
      "text/plain": [
       "<sklearn.metrics._plot.confusion_matrix.ConfusionMatrixDisplay at 0x82ca50>"
      ]
     },
     "execution_count": 44,
     "metadata": {},
     "output_type": "execute_result"
    },
    {
     "data": {
      "image/png": "[encoded data removed]",
      "text/plain": [
       "<Figure size 432x288 with 2 Axes>"
      ]
     },
     "metadata": {
      "needs_background": "light"
     },
     "output_type": "display_data"
    }
   ],
   "source": [
    "print(classification_report(y_test, y_pred))\n",
    "print(\"Acurácia: {}\".format(accuracy_score(y_test,y_pred)))\n",
    "print(\"Recall: {}\" .format(recall_score(y_test,y_pred)))\n",
    "print(\"Precision: {}\" . format(precision_score(y_test, y_pred, zero_division=1)))\n",
    "print(\"F1 Score: {}\".format(f1_score(y_test, y_pred, zero_division=1)))\n",
    "print(\"Matriz de Confusão:\")\n",
    "print(confusion_matrix(y_test,y_pred))\n",
    "cm = confusion_matrix(y_test,y_pred)\n",
    "cmd = ConfusionMatrixDisplay(cm, display_labels=['0','1'])\n",
    "cmd.plot()"
   ]
  },
  {
   "cell_type": "code",
   "execution_count": null,
   "metadata": {},
   "outputs": [],
   "source": [
    "data1 = np.sort(clf.predict_proba(X_test[y_test==1])[:, 1])\n",
    "data2 = np.sort(clf.predict_proba(X_test[y_test==1])[:, 0])\n",
    "stats.ks_2samp(data1, data2)"
   ]
  },
  {
   "cell_type": "markdown",
   "metadata": {},
   "source": [
    "# Gaussian"
   ]
  },
  {
   "cell_type": "code",
   "execution_count": null,
   "metadata": {},
   "outputs": [],
   "source": [
    "clf = GaussianNB()\n",
    "clf.fit(X_train, y_train)\n",
    "y_pred=clf.predict(X_test)"
   ]
  },
  {
   "cell_type": "code",
   "execution_count": null,
   "metadata": {},
   "outputs": [],
   "source": [
    "print(classification_report(y_test, y_pred))\n",
    "print(\"Acurácia: {}\".format(accuracy_score(y_test,y_pred)))\n",
    "print(\"Recall: {}\" .format(recall_score(y_test,y_pred)))\n",
    "print(\"Precision: {}\" . format(precision_score(y_test, y_pred)))\n",
    "print(\"F1 Score: {}\".format(f1_score(y_test, y_pred)))\n",
    "print(\"Matriz de Confusão:\")\n",
    "print(confusion_matrix(y_test,y_pred))\n",
    "cm = confusion_matrix(y_test,y_pred)\n",
    "cmd = ConfusionMatrixDisplay(cm, display_labels=['0','1'])\n",
    "cmd.plot()"
   ]
  },
  {
   "cell_type": "markdown",
   "metadata": {},
   "source": [
    "# Categorical"
   ]
  },
  {
   "cell_type": "code",
   "execution_count": 55,
   "metadata": {},
   "outputs": [],
   "source": [
    "from sklearn.naive_bayes import CategoricalNB\n",
    "clf = CategoricalNB()"
   ]
  },
  {
   "cell_type": "code",
   "execution_count": 56,
   "metadata": {},
   "outputs": [
    {
     "data": {
      "text/plain": [
       "CategoricalNB()"
      ]
     },
     "execution_count": 56,
     "metadata": {},
     "output_type": "execute_result"
    }
   ],
   "source": [
    "clf.fit(X_train, y_train)"
   ]
  },
  {
   "cell_type": "code",
   "execution_count": 57,
   "metadata": {},
   "outputs": [],
   "source": [
    "y_pred = clf.predict_proba(X_test)"
   ]
  },
  {
   "cell_type": "code",
   "execution_count": 58,
   "metadata": {},
   "outputs": [
    {
     "ename": "ValueError",
     "evalue": "Classification metrics can't handle a mix of binary and continuous-multioutput targets",
     "output_type": "error",
     "traceback": [
      "\u001b[1;31m---------------------------------------------------------------------------\u001b[0m",
      "\u001b[1;31mValueError\u001b[0m                                Traceback (most recent call last)",
      "\u001b[1;32m<ipython-input-58-c26c0f32f9b4>\u001b[0m in \u001b[0;36m<module>\u001b[1;34m\u001b[0m\n\u001b[0;32m      1\u001b[0m \u001b[1;31m#print(classification_report(y_test, y_pred))\u001b[0m\u001b[1;33m\u001b[0m\u001b[1;33m\u001b[0m\u001b[1;33m\u001b[0m\u001b[0m\n\u001b[1;32m----> 2\u001b[1;33m \u001b[0mprint\u001b[0m\u001b[1;33m(\u001b[0m\u001b[1;34m\"Acurácia: {}\"\u001b[0m\u001b[1;33m.\u001b[0m\u001b[0mformat\u001b[0m\u001b[1;33m(\u001b[0m\u001b[0maccuracy_score\u001b[0m\u001b[1;33m(\u001b[0m\u001b[0my_test\u001b[0m\u001b[1;33m,\u001b[0m\u001b[0my_pred\u001b[0m\u001b[1;33m)\u001b[0m\u001b[1;33m)\u001b[0m\u001b[1;33m)\u001b[0m\u001b[1;33m\u001b[0m\u001b[1;33m\u001b[0m\u001b[0m\n\u001b[0m\u001b[0;32m      3\u001b[0m \u001b[0mprint\u001b[0m\u001b[1;33m(\u001b[0m\u001b[1;34m\"Recall: {}\"\u001b[0m \u001b[1;33m.\u001b[0m\u001b[0mformat\u001b[0m\u001b[1;33m(\u001b[0m\u001b[0mrecall_score\u001b[0m\u001b[1;33m(\u001b[0m\u001b[0my_test\u001b[0m\u001b[1;33m,\u001b[0m\u001b[0my_pred\u001b[0m\u001b[1;33m)\u001b[0m\u001b[1;33m)\u001b[0m\u001b[1;33m)\u001b[0m\u001b[1;33m\u001b[0m\u001b[1;33m\u001b[0m\u001b[0m\n\u001b[0;32m      4\u001b[0m \u001b[0mprint\u001b[0m\u001b[1;33m(\u001b[0m\u001b[1;34m\"Precision: {}\"\u001b[0m \u001b[1;33m.\u001b[0m \u001b[0mformat\u001b[0m\u001b[1;33m(\u001b[0m\u001b[0mprecision_score\u001b[0m\u001b[1;33m(\u001b[0m\u001b[0my_test\u001b[0m\u001b[1;33m,\u001b[0m \u001b[0my_pred\u001b[0m\u001b[1;33m)\u001b[0m\u001b[1;33m)\u001b[0m\u001b[1;33m)\u001b[0m\u001b[1;33m\u001b[0m\u001b[1;33m\u001b[0m\u001b[0m\n\u001b[0;32m      5\u001b[0m \u001b[0mprint\u001b[0m\u001b[1;33m(\u001b[0m\u001b[1;34m\"F1 Score: {}\"\u001b[0m\u001b[1;33m.\u001b[0m\u001b[0mformat\u001b[0m\u001b[1;33m(\u001b[0m\u001b[0mf1_score\u001b[0m\u001b[1;33m(\u001b[0m\u001b[0my_test\u001b[0m\u001b[1;33m,\u001b[0m \u001b[0my_pred\u001b[0m\u001b[1;33m)\u001b[0m\u001b[1;33m)\u001b[0m\u001b[1;33m)\u001b[0m\u001b[1;33m\u001b[0m\u001b[1;33m\u001b[0m\u001b[0m\n",
      "\u001b[1;32m~\\Anaconda3\\lib\\site-packages\\sklearn\\utils\\validation.py\u001b[0m in \u001b[0;36minner_f\u001b[1;34m(*args, **kwargs)\u001b[0m\n\u001b[0;32m     70\u001b[0m                           FutureWarning)\n\u001b[0;32m     71\u001b[0m         \u001b[0mkwargs\u001b[0m\u001b[1;33m.\u001b[0m\u001b[0mupdate\u001b[0m\u001b[1;33m(\u001b[0m\u001b[1;33m{\u001b[0m\u001b[0mk\u001b[0m\u001b[1;33m:\u001b[0m \u001b[0marg\u001b[0m \u001b[1;32mfor\u001b[0m \u001b[0mk\u001b[0m\u001b[1;33m,\u001b[0m \u001b[0marg\u001b[0m \u001b[1;32min\u001b[0m \u001b[0mzip\u001b[0m\u001b[1;33m(\u001b[0m\u001b[0msig\u001b[0m\u001b[1;33m.\u001b[0m\u001b[0mparameters\u001b[0m\u001b[1;33m,\u001b[0m \u001b[0margs\u001b[0m\u001b[1;33m)\u001b[0m\u001b[1;33m}\u001b[0m\u001b[1;33m)\u001b[0m\u001b[1;33m\u001b[0m\u001b[1;33m\u001b[0m\u001b[0m\n\u001b[1;32m---> 72\u001b[1;33m         \u001b[1;32mreturn\u001b[0m \u001b[0mf\u001b[0m\u001b[1;33m(\u001b[0m\u001b[1;33m**\u001b[0m\u001b[0mkwargs\u001b[0m\u001b[1;33m)\u001b[0m\u001b[1;33m\u001b[0m\u001b[1;33m\u001b[0m\u001b[0m\n\u001b[0m\u001b[0;32m     73\u001b[0m     \u001b[1;32mreturn\u001b[0m \u001b[0minner_f\u001b[0m\u001b[1;33m\u001b[0m\u001b[1;33m\u001b[0m\u001b[0m\n\u001b[0;32m     74\u001b[0m \u001b[1;33m\u001b[0m\u001b[0m\n",
      "\u001b[1;32m~\\Anaconda3\\lib\\site-packages\\sklearn\\metrics\\_classification.py\u001b[0m in \u001b[0;36maccuracy_score\u001b[1;34m(y_true, y_pred, normalize, sample_weight)\u001b[0m\n\u001b[0;32m    185\u001b[0m \u001b[1;33m\u001b[0m\u001b[0m\n\u001b[0;32m    186\u001b[0m     \u001b[1;31m# Compute accuracy for each possible representation\u001b[0m\u001b[1;33m\u001b[0m\u001b[1;33m\u001b[0m\u001b[1;33m\u001b[0m\u001b[0m\n\u001b[1;32m--> 187\u001b[1;33m     \u001b[0my_type\u001b[0m\u001b[1;33m,\u001b[0m \u001b[0my_true\u001b[0m\u001b[1;33m,\u001b[0m \u001b[0my_pred\u001b[0m \u001b[1;33m=\u001b[0m \u001b[0m_check_targets\u001b[0m\u001b[1;33m(\u001b[0m\u001b[0my_true\u001b[0m\u001b[1;33m,\u001b[0m \u001b[0my_pred\u001b[0m\u001b[1;33m)\u001b[0m\u001b[1;33m\u001b[0m\u001b[1;33m\u001b[0m\u001b[0m\n\u001b[0m\u001b[0;32m    188\u001b[0m     \u001b[0mcheck_consistent_length\u001b[0m\u001b[1;33m(\u001b[0m\u001b[0my_true\u001b[0m\u001b[1;33m,\u001b[0m \u001b[0my_pred\u001b[0m\u001b[1;33m,\u001b[0m \u001b[0msample_weight\u001b[0m\u001b[1;33m)\u001b[0m\u001b[1;33m\u001b[0m\u001b[1;33m\u001b[0m\u001b[0m\n\u001b[0;32m    189\u001b[0m     \u001b[1;32mif\u001b[0m \u001b[0my_type\u001b[0m\u001b[1;33m.\u001b[0m\u001b[0mstartswith\u001b[0m\u001b[1;33m(\u001b[0m\u001b[1;34m'multilabel'\u001b[0m\u001b[1;33m)\u001b[0m\u001b[1;33m:\u001b[0m\u001b[1;33m\u001b[0m\u001b[1;33m\u001b[0m\u001b[0m\n",
      "\u001b[1;32m~\\Anaconda3\\lib\\site-packages\\sklearn\\metrics\\_classification.py\u001b[0m in \u001b[0;36m_check_targets\u001b[1;34m(y_true, y_pred)\u001b[0m\n\u001b[0;32m     89\u001b[0m     \u001b[1;32mif\u001b[0m \u001b[0mlen\u001b[0m\u001b[1;33m(\u001b[0m\u001b[0my_type\u001b[0m\u001b[1;33m)\u001b[0m \u001b[1;33m>\u001b[0m \u001b[1;36m1\u001b[0m\u001b[1;33m:\u001b[0m\u001b[1;33m\u001b[0m\u001b[1;33m\u001b[0m\u001b[0m\n\u001b[0;32m     90\u001b[0m         raise ValueError(\"Classification metrics can't handle a mix of {0} \"\n\u001b[1;32m---> 91\u001b[1;33m                          \"and {1} targets\".format(type_true, type_pred))\n\u001b[0m\u001b[0;32m     92\u001b[0m \u001b[1;33m\u001b[0m\u001b[0m\n\u001b[0;32m     93\u001b[0m     \u001b[1;31m# We can't have more than one value on y_type => The set is no more needed\u001b[0m\u001b[1;33m\u001b[0m\u001b[1;33m\u001b[0m\u001b[1;33m\u001b[0m\u001b[0m\n",
      "\u001b[1;31mValueError\u001b[0m: Classification metrics can't handle a mix of binary and continuous-multioutput targets"
     ]
    }
   ],
   "source": [
    "#print(classification_report(y_test, y_pred))\n",
    "print(\"Acurácia: {}\".format(accuracy_score(y_test,y_pred)))\n",
    "print(\"Recall: {}\" .format(recall_score(y_test,y_pred)))\n",
    "print(\"Precision: {}\" . format(precision_score(y_test, y_pred)))\n",
    "print(\"F1 Score: {}\".format(f1_score(y_test, y_pred)))\n",
    "print(\"Matriz de Confusão:\")\n",
    "print(confusion_matrix(y_test,y_pred, labels=True))\n",
    "cm = confusion_matrix(y_test,y_pred)\n",
    "cmd = ConfusionMatrixDisplay(cm, display_labels=['0','1'])\n",
    "cmd.plot()"
   ]
  },
  {
   "cell_type": "code",
   "execution_count": null,
   "metadata": {},
   "outputs": [],
   "source": []
  }
 ],
 "metadata": {
  "colab": {
   "collapsed_sections": [],
   "name": "3_modelos_versaoFInal.ipynb",
   "provenance": []
  },
  "kernelspec": {
   "display_name": "Python 3",
   "language": "python",
   "name": "python3"
  },
  "language_info": {
   "codemirror_mode": {
    "name": "ipython",
    "version": 3
   },
   "file_extension": ".py",
   "mimetype": "text/x-python",
   "name": "python",
   "nbconvert_exporter": "python",
   "pygments_lexer": "ipython3",
   "version": "3.7.4"
  }
 },
 "nbformat": 4,
 "nbformat_minor": 1
}
